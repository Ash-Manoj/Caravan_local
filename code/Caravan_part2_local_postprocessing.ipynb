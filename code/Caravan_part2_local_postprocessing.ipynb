{
  "cells": [
    {
      "attachments": {},
      "cell_type": "markdown",
      "metadata": {
        "id": "LfCmmM4_bnov"
      },
      "source": [
        "# Postprocess results from Earth Engine\n",
        "\n",
        "Author: Frederik Kratzert\n",
        "Contact: kratzert@google.com\n",
        "\n",
        "This notebook is part of the [Caravan publication](https://eartharxiv.org/repository/view/3345/) and is the second of two notebooks that can be used to extend the dataset to new basins. This notebook is expected to be run locally (or on your own server infrastructure) and requires the outputs of the first notebook (the downloaded data from Earth Engine). \n",
        "\n",
        "## What is Caravan?\n",
        "\n",
        "Caravan is ...\n",
        "- an open source, large-sample rainfall-runoff dataset.\n",
        "- derived entirely in the cloud (Earth Engine).\n",
        "- a dataset that only uses globally available data products (namely [ECMWF's ERA5-Land](https://cds.climate.copernicus.eu/cdsapp#!/dataset/reanalysis-era5-land?tab=overview) and [HydroATLAS](https://www.hydrosheds.org/page/hydroatlas) by Linke et al.).\n",
        "\n",
        "Why?\n",
        "- to democratize large-sample hydrology: Anyone can extend the dataset to new regions without downloading and preprocessing large amounts of raw data. Instead, we use freely available cloud resources to do all heavy lifting in the cloud and only download the processed results.\n",
        "- to advance research on global rainfall-runoff models: So far, we have seen  different large-sample datasets (e.g. CAMELS variants) that are specific to individual countries. However, due to the use of data products with only local coverage (e.g. meteorological forcing data or static attribute maps), intercomparisons betweens these products are not straight forward.\n",
        "\n",
        "## Requirements\n",
        "\n",
        "- Python environment with Python >= 3.6 and the following libraries installed:\n",
        "  - Jupyter\n",
        "  - netCDF4\n",
        "  - Numba\n",
        "  - Pandas\n",
        "  - tqdm\n",
        "  - xarray\n",
        "  - timzonefinder\n",
        "  \n",
        "  Check the [Github repository](https://github.com/kratzert/Caravan) for an [environment.yml](https://github.com/kratzert/Caravan/environments/environment.yml) (for conda environments) or [requirements.txt](https://github.com/kratzert/Caravan/environments/requirements.txt) (pip) file.\n",
        "- Outputs of the [first notebook](https://github.com/kratzert/Caravan/code/Caravan_part1_Earth_Engine.ipynb), namely the data processed by Earth Engine(ERA5 Land time series and HydroATLAS attributes).\n",
        "- The latitude and longitude information for each gauge.\n",
        "- Daily streamflow observations for each gauge.\n",
        "\n",
        "## Making new data available to the community\n",
        "\n",
        "We envision Caravan as a dynamically growing dataset that can be extended by its users. While making a large-sample dataset available upon the intial publication, the distribution of the basins is still limited to a few regions in the world. Ideally, this will change over time. Anyone who uses Caravan and this code to extend the dataset is invited to also share the streamflow time series data with the community, even if it is just for a single (or a few) basins. By doing so, little by little, we could create a new, globally spanning open source dataset that anyone can use for their own work/research. For the moment, the [discussion forum](https://github.com/kratzert/Caravan/discussions) on the Github repository is the place to share information on data that you want to contribute. See also the [wiki](https://github.com/kratzert/Caravan/wiki) on Github for further information.\n",
        "\n",
        "## Structure of this notebook\n",
        "\n",
        "The code consists of different sections.\n",
        "\n",
        "1. General setup/imports/configurations\n",
        "2. Processing of the raw ERA5 Land time series outputs (hourly) from Earth Engine into daily aggregates in local time (of each gauge)\n",
        "3. Merging forcings with streamflow data\n",
        "4. Updating attributes to include latitude/longitude \n",
        "5. Saving processed data to disk\n",
        "\n",
        "## Citation\n",
        "\n",
        "If you use the Caravan dataset or this code, please consider referencing the original publication\n",
        "\n",
        "```bib\n",
        "@article{kratzert2023caravan,\n",
        "  title={Caravan-A global community dataset for large-sample hydrology},\n",
        "  author={Kratzert, Frederik and Nearing, Grey and Addor, Nans and Erickson, Tyler and Gauch, Martin and Gilon, Oren and Gudmundsson, Lukas and Hassidim, Avinatan and Klotz, Daniel and Nevo, Sella and others},\n",
        "  journal={Scientific Data},\n",
        "  volume={10},\n",
        "  number={1},\n",
        "  pages={61},\n",
        "  year={2023},\n",
        "  publisher={Nature Publishing Group UK London}\n",
        "}\n",
        "```\n",
        "\n"
      ]
    },
    {
      "attachments": {},
      "cell_type": "markdown",
      "metadata": {
        "id": "4WpQz9BI7W0c"
      },
      "source": [
        "# Import modules"
      ]
    },
    {
      "cell_type": "code",
      "execution_count": 199,
      "metadata": {
        "id": "i3vKQTujbhw2"
      },
      "outputs": [],
      "source": [
        "import shutil\n",
        "from pathlib import Path\n",
        "\n",
        "import numpy as np\n",
        "import pandas as pd\n",
        "import xarray\n",
        "from timezonefinder import TimezoneFinder\n",
        "from tqdm.notebook import tqdm\n",
        "\n",
        "import caravan_utils"
      ]
    },
    {
      "attachments": {},
      "cell_type": "markdown",
      "metadata": {
        "id": "t5zxvfX_dyG3"
      },
      "source": [
        "# General configuration\n",
        "\n",
        "Make sure to edit the fields that are listed as mandatory for the rest of this notebook to work. All `*_FILE` and `_DIR` variables should be `Path()` objects."
      ]
    },
    {
      "attachments": {},
      "cell_type": "markdown",
      "metadata": {
        "id": "GuFI8POptH9s"
      },
      "source": [
        "- `BASIN_ID_FIELD`: Name of the attribute field in the shapefile that contains the basin id.\n",
        "\n",
        "- `BASIN_PREFIX`: A short descriptive string that is prepended to each basin id and that should be unique within the Caravan data space. E.g., we use `us` for basins from the CAMELS US dataset and `gb` for basins within Great Britain. The final name for each basin within the attribute table will be `{BASIN_PREFIX}_{GAUGE_ID}`. Note, if you already included such a prefix in the basin id field of your shapefile, leave this field as an empty string. Please also read the README in the Caravan dataset folder on details about the folder structure of the dataset.\n",
        "- `ATTRIBUTE_FILE`: `Path` object pointing to a csv file with the HydroATLAS attributes as saved by Earth Engine (first notebook).\n",
        "- `ERA5L_DIR`: `Path` object pointing to the directory that contains the csv files (`batchXX.csv`) with the ERA5-Land data as saved by Earth Engine (first notebook).\n",
        "- `NUM_POOL_WORKERS`: Number of parallel threads that are used for some processing steps. Should not be larger than the number of CPU kernels of your machine (potentially one less than that to have some free resources while the data is processed).\n",
        "- `ERA5L_BANDS`: The list of features from ERA5-Land that you want to process. Change this in case you only downloaded a subset of the bands that are the defaults in the first notebook. However, note that if you change this, you might need to adapt some parts of the code, as e.g. the climate attributes that are computed in this notebook specifically require some of the ERA5-Land bands to be present.\n",
        "- `MEAN_VARS`: List of features which are aggregated to daily resolution by computing the daily mean. Change this in case you only downloaded a subset of the bands that are the defaults in the first notebook.\n",
        "- `MIN_VARS`: Same as above, but instead of aggregating by computing the mean, the min value is used.\n",
        "- `MAX_VARS`: Same as above, but instead of aggregating by computing the mean, the max value is used.\n",
        "- `SUM_VARS`: Same as above, but instead of aggregating by computing the mean, the daily sum value is used."
      ]
    },
    {
      "cell_type": "code",
      "execution_count": 201,
      "metadata": {
        "id": "zQ5myxsDdSk5"
      },
      "outputs": [],
      "source": [
        "# ------------------------------ Mandatory ------------------------------------#\n",
        "BASIN_ID_FIELD = 'fid'\n",
        "BASIN_PREFIX = 'testde'\n",
        "ATTRIBUTE_FILE = Path(r\"S:\\ashish\\02_Software\\Github\\Caravan_local\\data\\test_germany\\attributes\\attributes.csv\")\n",
        "ERA5L_DIR = Path(r\"S:\\ashish\\02_Software\\Github\\Caravan_local\\data\\test_germany\")\n",
        "OUTPUT_DIR = Path(r\"S:\\ashish\\02_Software\\Github\\Caravan_local\\data\\processed\")\n",
        "\n",
        "# ------------------------------ Optional -------------------------------------#\n",
        "NUM_POOL_WORKERS = 3\n",
        "ERA5L_BANDS = ['temperature_2m', \n",
        "               'dewpoint_temperature_2m',\n",
        "               'volumetric_soil_water_layer_1', \n",
        "               'volumetric_soil_water_layer_2', \n",
        "               'volumetric_soil_water_layer_3', \n",
        "               'volumetric_soil_water_layer_4',\n",
        "               'surface_net_solar_radiation', \n",
        "               'surface_net_thermal_radiation', \n",
        "               'u_component_of_wind_10m', \n",
        "               'v_component_of_wind_10m', \n",
        "               'surface_pressure',\n",
        "               'total_precipitation', \n",
        "               'snow_depth_water_equivalent',\n",
        "               'potential_evaporation']\n",
        "MEAN_VARS = ['snow_depth_water_equivalent',\n",
        "             'surface_net_solar_radiation',\n",
        "             'surface_net_thermal_radiation',\n",
        "             'surface_pressure',\n",
        "             'temperature_2m',\n",
        "             'dewpoint_temperature_2m',\n",
        "             'u_component_of_wind_10m',\n",
        "             'v_component_of_wind_10m',\n",
        "             'volumetric_soil_water_layer_1',\n",
        "             'volumetric_soil_water_layer_2',\n",
        "             'volumetric_soil_water_layer_3',\n",
        "             'volumetric_soil_water_layer_4',]\n",
        "MIN_VARS = MEAN_VARS\n",
        "MAX_VARS = MEAN_VARS\n",
        "SUM_VARS = ['total_precipitation',\n",
        "            'potential_evaporation']\n",
        "\n",
        "if not all([isinstance(x, Path) for x in [ATTRIBUTE_FILE, ERA5L_DIR, OUTPUT_DIR]]):\n",
        "    raise ValueError(\"All paths to directories or files need to be Path objects.\")"
      ]
    },
    {
      "attachments": {},
      "cell_type": "markdown",
      "metadata": {
        "id": "usfDPYJsnvYg"
      },
      "source": [
        "# Load and unify raw Earth Engine outputs\n",
        "\n",
        "The purpose of this first part is to postprocess the raw outputs from Earth Engine into per-basin time series. Since the hourly data for multiple (hundreds) of basins can become quite large, this part of the code does the following.\n",
        "\n",
        "1. We read the Earth Engine outputs (the batch files) file by file. Each file contains data for a specific time period for all basins.\n",
        "2. We split this data by basins and store them temporary to per-basin csv files for each of the batch files.\n",
        "3. After all batch files are processed, we iterate over the basins and combine the temporary per-basin files (of each batch) into one single file with all data.\n",
        "\n",
        "This part of the code can become quite compute intensive, especially for a large number of basins, e.g. several hundreds. To make things faster, we offer a parallized implementation of the steps above. However, sometimes the multiprocessing library fails to process the data (or runs indefinitely without any progress), for no apparent reason. If this is happening to you, you can run the sequential processing code blow. \n",
        "\n",
        "All intermediate temporary files are deleted after this process and the combined hourly per-basin files are also deleted at the end of this notebook.\n",
        "\n",
        "## Parallelized implementation\n",
        "\n",
        "Make sure to adapt the `NUM_POOL_WORKERS` according to your system. If you noticed that nothing happens, e.g. the progress bar does not advance after a while or you see no temporary files being created at the `OUTPUT_DIR`, stop this code block and execute the (slower) sequential code below."
      ]
    },
    {
      "cell_type": "code",
      "execution_count": 202,
      "metadata": {},
      "outputs": [
        {
          "data": {
            "application/vnd.jupyter.widget-view+json": {
              "model_id": "e5bca187eb7c4a6e87106825527b1d2f",
              "version_major": 2,
              "version_minor": 0
            },
            "text/plain": [
              "Splitting Earth Engine output into per-basin files.:   0%|          | 0/44 [00:00<?, ?it/s]"
            ]
          },
          "metadata": {},
          "output_type": "display_data"
        },
        {
          "data": {
            "application/vnd.jupyter.widget-view+json": {
              "model_id": "42d9951e9c84483a887fec8149a02514",
              "version_major": 2,
              "version_minor": 0
            },
            "text/plain": [
              "Combining files per-basin into one file.:   0%|          | 0/2 [00:00<?, ?it/s]"
            ]
          },
          "metadata": {},
          "output_type": "display_data"
        },
        {
          "name": "stdout",
          "output_type": "stream",
          "text": [
            "Temporary data stored at S:\\ashish\\02_Software\\Github\\Caravan_local\\data\\processed\\temp. Will be removed at the end of this notebook.\n"
          ]
        }
      ],
      "source": [
        "finished_preprocessing = False\n",
        "csv_files = sorted(list((ERA5L_DIR).glob('batch*.csv')))\n",
        "caravan_utils.process_earth_engine_outputs(\n",
        "    csv_files=csv_files, \n",
        "    basin_id_field=BASIN_ID_FIELD, \n",
        "    era5l_bands=ERA5L_BANDS, \n",
        "    output_dir=OUTPUT_DIR, \n",
        "    num_workers=NUM_POOL_WORKERS\n",
        ")\n",
        "print(f\"Temporary data stored at {OUTPUT_DIR / 'temp'}. Will be removed at the end of this notebook.\")\n",
        "basins = [p.name for p in (OUTPUT_DIR / \"temp\").glob('*')]\n",
        "finished_preprocessing = True"
      ]
    },
    {
      "cell_type": "code",
      "execution_count": 203,
      "metadata": {},
      "outputs": [],
      "source": [
        "# Add basin prefix field\n",
        "# Create a dictionary to map basins IDs to index labels\n",
        "basins2 = [f\"{BASIN_PREFIX}_{basin_id}\" for basin_id in basins]"
      ]
    },
    {
      "attachments": {},
      "cell_type": "markdown",
      "metadata": {
        "id": "myf_wuTiBnyM"
      },
      "source": [
        "# Load gauge lat/lon info\n",
        "\n",
        "**USER INPUT REQUIRED**\n",
        "\n",
        "Here, you need to add code to load gauge latitude and longitude information. This is required to be able to convert the ERA5-Land time series from UTC to local time, before calculating daily statistics and finally merging it with daily streamflow data. Additionally, it would be amazing to add the name of the gauge station as well as the name of the country to this dataframe.\n",
        "\n",
        "You need to do the following:\n",
        "- Load latitude, longitude (of the gauge station), name (of the gauge station) and the country name(s) from any source.\n",
        "- Create a pandas DataFrame, called `df_metadata` that is indexed by the basin id (same id's as in the Earth Engine outputs) with the following columns:\n",
        "\n",
        "  - `gauge_lat` contains the latitude values (in WGS84).\n",
        "  - `gauge_lon` contains the longitude values (in WGS84).\n",
        "  - `gauge_name` contains the name of the gauge stations. If not available, it can be an empty string. But better would be to provide e.g. the closest village/city or the name of the river.\n",
        "  - `country` the name of the country."
      ]
    },
    {
      "cell_type": "code",
      "execution_count": 206,
      "metadata": {
        "id": "TRshZuLc-UZe"
      },
      "outputs": [
        {
          "name": "stdout",
          "output_type": "stream",
          "text": [
            "          gauge_lat  gauge_lon               gauge_name  country\n",
            "gauge_id                                                        \n",
            "testde_1  49.136540    8.74234     Menzingen Weiherbach  Germany\n",
            "testde_2  49.314977    8.84000  Eschelbronn Schwarzbach  Germany\n"
          ]
        }
      ],
      "source": [
        "# Load your lat/lon information here. See specifications above\n",
        "\n",
        "# Create DataFrame with the provided information\n",
        "data = {\n",
        "    'gauge_id': ['testde_1', 'testde_2'],  # Convert to strings\n",
        "    'gauge_lat': [49.13654, 49.314977],\n",
        "    'gauge_lon': [8.74234, 8.84],\n",
        "    'gauge_name': ['Menzingen Weiherbach', 'Eschelbronn Schwarzbach'],\n",
        "    'country': ['Germany', 'Germany']\n",
        "}\n",
        "\n",
        "# Create df_metadata DataFrame\n",
        "df_metadata = pd.DataFrame(data)\n",
        "df_metadata.set_index('gauge_id', inplace=True)\n",
        "\n",
        "# Display the DataFrame\n",
        "print(df_metadata)\n"
      ]
    },
    {
      "attachments": {},
      "cell_type": "markdown",
      "metadata": {
        "id": "Lsnl8SGZdjuj"
      },
      "source": [
        "## Validate loaded lat/lon data\n",
        "\n",
        "Execute this code section to test the validity of your `df_lat_lon` DataFrame."
      ]
    },
    {
      "cell_type": "code",
      "execution_count": 207,
      "metadata": {
        "colab": {
          "base_uri": "https://localhost:8080/"
        },
        "id": "uizTvoU-dpJf",
        "outputId": "29095009-44a2-4f9f-9275-5680592728f4"
      },
      "outputs": [
        {
          "name": "stdout",
          "output_type": "stream",
          "text": [
            "All tests passed successfully.\n"
          ]
        }
      ],
      "source": [
        "if not 'df_metadata' in locals():\n",
        "    raise RuntimeError(\"A variable 'df_metadata' does not exist\")\n",
        "\n",
        "if not isinstance(df_metadata, pd.DataFrame):\n",
        "    raise RuntimeError(\"'df_metadata' is not a pandas DataFrame\")\n",
        "\n",
        "missing_basins = [x for x in basins2 if x not in df_metadata.index]\n",
        "if missing_basins:\n",
        "    raise RuntimeError(\"The following basins are missing in the index of the \"\n",
        "                       f\"DataFrame: {missing_basins}\")                   \n",
        "  \n",
        "if any([x not in df_metadata.columns for x in ['gauge_lat', 'gauge_lon', 'country', 'gauge_name']]):\n",
        "    raise RuntimeError(\"Missing one (or more) of the following columns: \"\n",
        "                       \"'gauge_lat', 'gauge_lon', 'country', 'gauge_name'\")\n",
        "\n",
        "if df_metadata[['gauge_lat', 'gauge_lon', 'gauge_name', 'country']].isnull().values.any():\n",
        "    raise RuntimeError(\"There is at least one NaN value in the dataframe\")\n",
        "\n",
        "# Make sure the index is called \"gauge_id\"\n",
        "df_metadata.index.name = \"gauge_id\"\n",
        "\n",
        "print(\"All tests passed successfully.\")"
      ]
    },
    {
      "attachments": {},
      "cell_type": "markdown",
      "metadata": {
        "id": "u2qfQ1fv0loP"
      },
      "source": [
        "## Aggregate to daily resolution\n",
        "\n",
        "To be able to convert the hourly ERA5-Land data to daily aggregates we need to execute the following steps.\n",
        "\n",
        "1. Disaggregate ERA5-Land features that are provided as accumulates over the day (see explanation below).\n",
        "2. Convert ERA5-Land variables to units more common for hydrological applications.\n",
        "3. Shift to local time and aggregate to daily resolution (see explanation below).\n",
        "\n",
        "### Disaggregate ERA5Land features and convert units\n",
        "\n",
        "Some ERA5-Land features accumulate their values over one day (in UTC). Meaning that, e.g., the precipitation value at `01:00` contains the total precipitation that has fallen from `00:00` to `01:00` and the value of `02:00` contains the total precipitation that has fallen from `00:00` to `02:00` (and not the amount that has fallen from `01:00` to `02:00`). Because we want to convert the hourly UTC data to local time (below), we first disaggregate the cumulated features into hourly \"instantaneous\" (or hourly accumulated) values. Due to some numerical issues (on Earth Engine/ERA5-Land side), there might also be some physically implausible values, e.g., instead of 0 mm precipitation there is a very tiny negative value. We clip these cases to zero. \n",
        "\n",
        "### Unit conversion\n",
        "We convert the ERA5-Land features into units that are more common in hydrology (e.g., precipitation in mm instead of m). For details see the `era5l_unit_conversion` in `caravan_utils.py` or check the metadata that is stored in the netCDF files. \n",
        "\n",
        "### Aggregate to daily statistics\n",
        "\n",
        "Special care has to be taken when computing daily aggregates from hourly values, especially with those features that are accumulates, rather than instantenous values. Of the features included in Caravan, `total_precipitation`,`potential_evaporation`, `surface_net_solar_radiation`, and `surface_net_thermal_radiation` are accumulates, while all others are instantenous values. For the accumulates, according to the [ERA5Land documentation](https://confluence.ecmwf.int/display/CKB/ERA5-Land%3A+data+documentation#ERA5Land:datadocumentation-accumulationsAccumulations), the value that is stored at e.g. 1981-01-01 00:00 is the value that is accumulated over the previous hour _up to_ 00:00. This means that this value should not be included when computing the daily statistics for 1981-01-01. The 24 data points that should be included to compute e.g. the daily statistics for 1981-01-01 are from 1981-01-01 01:00 until (including) 1981-01-02 00:00. We need to consider this when we use the resampling function of the pandas library, which does (by defaul) resample by date, which would be wrong in this case. We can mitigate that by passing an `offset=pd.Timedelta(hours=-1)` to the resample function. For the instantenous values it doesn't really make a difference if the steps 00:00 to 23:00 are used, or also the values 01:00 to 00:00 (==24:00). Therefore, we chose to take the same timesteps as for the accumulates."
      ]
    },
    {
      "cell_type": "code",
      "execution_count": 208,
      "metadata": {
        "colab": {
          "base_uri": "https://localhost:8080/",
          "height": 49,
          "referenced_widgets": [
            "9ec4d400994e4034975bd9a9de1a9622",
            "28bcbfba0dad4138aeafef2fe138c119",
            "f416a0e2889d4d0897c4ba8f22fa0525",
            "6b5ac87371fa4d7fa3a7c6e3c4f1fcd0",
            "a16a036b1aa546548b6537860f932335",
            "624e3194f9964e89bf9684cdeea07211",
            "b130ee650d8f4d46954fafe735778d1a",
            "0551978b6170471690f8145537ce3b85",
            "52a6fb9fc1bc47ee879bd81d4a25a0dd",
            "5776f129e5c44339aebfef2d970030aa",
            "61152fc0162b4f51a390435a6864b99c"
          ]
        },
        "id": "jJ-PcXSmrQc6",
        "outputId": "497030ae-0864-4c74-ad37-af44ce695ee3"
      },
      "outputs": [
        {
          "data": {
            "application/vnd.jupyter.widget-view+json": {
              "model_id": "c26b67fe56fd47b69edf412bcac01264",
              "version_major": 2,
              "version_minor": 0
            },
            "text/plain": [
              "  0%|          | 0/2 [00:00<?, ?it/s]"
            ]
          },
          "metadata": {},
          "output_type": "display_data"
        }
      ],
      "source": [
        "daily_dfs = {}\n",
        "\n",
        "for basin in tqdm(basins):\n",
        "    netcdf_file = OUTPUT_DIR / \"temp\" / basin / \"combined.nc\"\n",
        "    if not netcdf_file.is_file():\n",
        "        print(f\"Combined netCDF file does not exist at {netcdf_file}\"\n",
        "               \" Make sure to succesfully execute the blocks above\")\n",
        "    df = xarray.open_dataset(netcdf_file).to_dataframe()\n",
        "    # By ERA5-Land conventions, PET, as an upward flux, has a negative sign.\n",
        "    # We change this to a positive sign, which is more common for hydrological applications.\n",
        "    df[\"potential_evaporation\"] = df[\"potential_evaporation\"] * -1\n",
        "\n",
        "    # Disaggregate features that are accumulated over the day into hourly values.\n",
        "    df = caravan_utils.disaggregate_features(df)\n",
        "\n",
        "    # Clip precipitation and SWE to 0. They can have small negative values due to numerical issues.\n",
        "    df.loc[df[\"total_precipitation\"] < 0, \"total_precipitation\"] = 0.0\n",
        "    df.loc[df[\"snow_depth_water_equivalent\"] < 0, \"snow_depth_water_equivalent\"] = 0.0\n",
        "\n",
        "    # Convert ERA5-Land variables into units that are more common for hydrological applications.\n",
        "    df = caravan_utils.era5l_unit_conversion(df)\n",
        "\n",
        "    # Aggregate dataframe to daily resolution in local time\n",
        "    df_daily = caravan_utils.aggregate_df_to_daily(\n",
        "        df=df, \n",
        "        gauge_lat=df_metadata.loc[df_metadata.index == f'{BASIN_PREFIX}_{basin}', 'gauge_lat'].values[0],\n",
        "        gauge_lon=df_metadata.loc[df_metadata.index == f'{BASIN_PREFIX}_{basin}', 'gauge_lon'].values[0],\n",
        "        mean_vars=MEAN_VARS,\n",
        "        min_vars=MIN_VARS,\n",
        "        max_vars=MAX_VARS,\n",
        "        sum_vars=SUM_VARS\n",
        "        )\n",
        "\n",
        "    daily_dfs[f'{BASIN_PREFIX}_{basin}'] = df_daily"
      ]
    },
    {
      "cell_type": "code",
      "execution_count": 209,
      "metadata": {},
      "outputs": [
        {
          "data": {
            "text/plain": [
              "{'testde_1':             snow_depth_water_equivalent_mean  \\\n",
              " date                                           \n",
              " 1980-01-02                          8.587236   \n",
              " 1980-01-03                         10.047408   \n",
              " 1980-01-04                         12.323272   \n",
              " 1980-01-05                          9.418177   \n",
              " 1980-01-06                          6.205617   \n",
              " ...                                      ...   \n",
              " 2022-12-27                          0.000000   \n",
              " 2022-12-28                          0.000000   \n",
              " 2022-12-29                          0.000000   \n",
              " 2022-12-30                          0.000000   \n",
              " 2022-12-31                          0.000000   \n",
              " \n",
              "             surface_net_solar_radiation_mean  \\\n",
              " date                                           \n",
              " 1980-01-02                         23.759109   \n",
              " 1980-01-03                         27.125116   \n",
              " 1980-01-04                          8.731030   \n",
              " 1980-01-05                         15.037854   \n",
              " 1980-01-06                         24.766611   \n",
              " ...                                      ...   \n",
              " 2022-12-27                         37.152344   \n",
              " 2022-12-28                         36.465328   \n",
              " 2022-12-29                         25.299849   \n",
              " 2022-12-30                         30.755564   \n",
              " 2022-12-31                         34.767040   \n",
              " \n",
              "             surface_net_thermal_radiation_mean  surface_pressure_mean  \\\n",
              " date                                                                    \n",
              " 1980-01-02                          -46.441868              98.480888   \n",
              " 1980-01-03                          -43.604553              99.289223   \n",
              " 1980-01-04                          -11.522164              98.717499   \n",
              " 1980-01-05                           -8.710421              98.129692   \n",
              " 1980-01-06                          -22.666853              98.261757   \n",
              " ...                                        ...                    ...   \n",
              " 2022-12-27                          -65.711136             100.001030   \n",
              " 2022-12-28                          -48.173229              99.147850   \n",
              " 2022-12-29                          -35.822941              98.463837   \n",
              " 2022-12-30                          -44.130249              98.665337   \n",
              " 2022-12-31                          -51.465687              98.901817   \n",
              " \n",
              "             temperature_2m_mean  dewpoint_temperature_2m_mean  \\\n",
              " date                                                            \n",
              " 1980-01-02            -1.648043                     -4.464368   \n",
              " 1980-01-03            -2.463145                     -5.501713   \n",
              " 1980-01-04            -1.520985                     -3.597945   \n",
              " 1980-01-05             3.523293                      2.706908   \n",
              " 1980-01-06             2.336658                      1.618520   \n",
              " ...                         ...                           ...   \n",
              " 2022-12-27             4.437829                      1.610288   \n",
              " 2022-12-28             6.671214                      1.361748   \n",
              " 2022-12-29            10.479474                      5.018457   \n",
              " 2022-12-30             7.867455                      5.696724   \n",
              " 2022-12-31            14.506312                      8.871830   \n",
              " \n",
              "             u_component_of_wind_10m_mean  v_component_of_wind_10m_mean  \\\n",
              " date                                                                     \n",
              " 1980-01-02                      2.687360                     -0.718790   \n",
              " 1980-01-03                      1.265074                     -0.544232   \n",
              " 1980-01-04                     -0.432913                      1.852094   \n",
              " 1980-01-05                      1.858219                      1.165771   \n",
              " 1980-01-06                      1.978648                      1.520237   \n",
              " ...                                  ...                           ...   \n",
              " 2022-12-27                      1.802758                      1.278682   \n",
              " 2022-12-28                      1.208560                      2.569520   \n",
              " 2022-12-29                      3.158451                      2.784732   \n",
              " 2022-12-30                      0.778314                      2.598422   \n",
              " 2022-12-31                      2.697809                      3.027699   \n",
              " \n",
              "             volumetric_soil_water_layer_1_mean  \\\n",
              " date                                             \n",
              " 1980-01-02                            0.379566   \n",
              " 1980-01-03                            0.375078   \n",
              " 1980-01-04                            0.374271   \n",
              " 1980-01-05                            0.417570   \n",
              " 1980-01-06                            0.419798   \n",
              " ...                                        ...   \n",
              " 2022-12-27                            0.403426   \n",
              " 2022-12-28                            0.390369   \n",
              " 2022-12-29                            0.385665   \n",
              " 2022-12-30                            0.398339   \n",
              " 2022-12-31                            0.392495   \n",
              " \n",
              "             volumetric_soil_water_layer_2_mean  ...  temperature_2m_max  \\\n",
              " date                                            ...                       \n",
              " 1980-01-02                            0.388035  ...            0.014709   \n",
              " 1980-01-03                            0.384241  ...           -0.986176   \n",
              " 1980-01-04                            0.380723  ...            3.396393   \n",
              " 1980-01-05                            0.397272  ...            4.633148   \n",
              " 1980-01-06                            0.412449  ...            3.816956   \n",
              " ...                                        ...  ...                 ...   \n",
              " 2022-12-27                            0.411076  ...            6.959015   \n",
              " 2022-12-28                            0.403661  ...            9.937439   \n",
              " 2022-12-29                            0.396138  ...           12.027649   \n",
              " 2022-12-30                            0.394140  ...           12.327240   \n",
              " 2022-12-31                            0.395442  ...           17.287445   \n",
              " \n",
              "             dewpoint_temperature_2m_max  u_component_of_wind_10m_max  \\\n",
              " date                                                                   \n",
              " 1980-01-02                    -3.509979                     3.742796   \n",
              " 1980-01-03                    -4.462677                     1.998188   \n",
              " 1980-01-04                     2.132996                     1.785956   \n",
              " 1980-01-05                     3.548462                     2.692146   \n",
              " 1980-01-06                     2.583710                     2.809181   \n",
              " ...                                 ...                          ...   \n",
              " 2022-12-27                     3.760223                     4.007935   \n",
              " 2022-12-28                     3.211334                     2.418880   \n",
              " 2022-12-29                     6.739319                     4.831707   \n",
              " 2022-12-30                     8.453827                     4.000521   \n",
              " 2022-12-31                    10.388580                     4.314973   \n",
              " \n",
              "             v_component_of_wind_10m_max  volumetric_soil_water_layer_1_max  \\\n",
              " date                                                                         \n",
              " 1980-01-02                     0.876215                           0.382481   \n",
              " 1980-01-03                     1.478073                           0.376930   \n",
              " 1980-01-04                     2.207825                           0.391103   \n",
              " 1980-01-05                     2.390507                           0.430187   \n",
              " 1980-01-06                     1.924471                           0.425928   \n",
              " ...                                 ...                                ...   \n",
              " 2022-12-27                     2.153538                           0.417036   \n",
              " 2022-12-28                     3.257645                           0.394808   \n",
              " 2022-12-29                     4.187582                           0.400019   \n",
              " 2022-12-30                     4.271445                           0.410337   \n",
              " 2022-12-31                     3.566474                           0.403697   \n",
              " \n",
              "             volumetric_soil_water_layer_2_max  \\\n",
              " date                                            \n",
              " 1980-01-02                           0.389789   \n",
              " 1980-01-03                           0.386055   \n",
              " 1980-01-04                           0.382300   \n",
              " 1980-01-05                           0.408551   \n",
              " 1980-01-06                           0.418465   \n",
              " ...                                       ...   \n",
              " 2022-12-27                           0.413501   \n",
              " 2022-12-28                           0.407339   \n",
              " 2022-12-29                           0.399559   \n",
              " 2022-12-30                           0.395920   \n",
              " 2022-12-31                           0.396516   \n",
              " \n",
              "             volumetric_soil_water_layer_3_max  \\\n",
              " date                                            \n",
              " 1980-01-02                           0.396874   \n",
              " 1980-01-03                           0.396194   \n",
              " 1980-01-04                           0.395440   \n",
              " 1980-01-05                           0.395066   \n",
              " 1980-01-06                           0.397618   \n",
              " ...                                       ...   \n",
              " 2022-12-27                           0.407044   \n",
              " 2022-12-28                           0.406836   \n",
              " 2022-12-29                           0.405863   \n",
              " 2022-12-30                           0.404677   \n",
              " 2022-12-31                           0.403625   \n",
              " \n",
              "             volumetric_soil_water_layer_4_max  total_precipitation_sum  \\\n",
              " date                                                                     \n",
              " 1980-01-02                           0.371376                 2.213536   \n",
              " 1980-01-03                           0.371898                 0.916740   \n",
              " 1980-01-04                           0.372392                 4.962530   \n",
              " 1980-01-05                           0.372868                 3.432118   \n",
              " 1980-01-06                           0.373377                 4.426896   \n",
              " ...                                       ...                      ...   \n",
              " 2022-12-27                           0.365106                 0.004847   \n",
              " 2022-12-28                           0.366218                 0.000805   \n",
              " 2022-12-29                           0.367225                 2.256553   \n",
              " 2022-12-30                           0.368185                 3.116728   \n",
              " 2022-12-31                           0.369041                 0.040908   \n",
              " \n",
              "             potential_evaporation_sum  \n",
              " date                                   \n",
              " 1980-01-02                   1.168521  \n",
              " 1980-01-03                   0.613804  \n",
              " 1980-01-04                   0.476987  \n",
              " 1980-01-05                   0.159529  \n",
              " 1980-01-06                   0.315214  \n",
              " ...                               ...  \n",
              " 2022-12-27                   1.248506  \n",
              " 2022-12-28                   2.653488  \n",
              " 2022-12-29                   4.833728  \n",
              " 2022-12-30                   1.416336  \n",
              " 2022-12-31                   4.533192  \n",
              " \n",
              " [15705 rows x 38 columns],\n",
              " 'testde_2':             snow_depth_water_equivalent_mean  \\\n",
              " date                                           \n",
              " 1980-01-02                         13.613278   \n",
              " 1980-01-03                         15.166631   \n",
              " 1980-01-04                         17.284555   \n",
              " 1980-01-05                         13.869724   \n",
              " 1980-01-06                          9.333369   \n",
              " ...                                      ...   \n",
              " 2022-12-27                          0.000000   \n",
              " 2022-12-28                          0.000000   \n",
              " 2022-12-29                          0.000000   \n",
              " 2022-12-30                          0.000000   \n",
              " 2022-12-31                          0.000000   \n",
              " \n",
              "             surface_net_solar_radiation_mean  \\\n",
              " date                                           \n",
              " 1980-01-02                         21.609949   \n",
              " 1980-01-03                         22.914124   \n",
              " 1980-01-04                          8.272036   \n",
              " 1980-01-05                         12.413025   \n",
              " 1980-01-06                         20.889683   \n",
              " ...                                      ...   \n",
              " 2022-12-27                         35.981480   \n",
              " 2022-12-28                         35.931973   \n",
              " 2022-12-29                         24.203051   \n",
              " 2022-12-30                         31.312904   \n",
              " 2022-12-31                         32.824917   \n",
              " \n",
              "             surface_net_thermal_radiation_mean  surface_pressure_mean  \\\n",
              " date                                                                    \n",
              " 1980-01-02                          -45.125874              98.581841   \n",
              " 1980-01-03                          -38.981068              99.410759   \n",
              " 1980-01-04                           -9.487943              98.860382   \n",
              " 1980-01-05                           -5.477129              98.248131   \n",
              " 1980-01-06                          -17.877794              98.378395   \n",
              " ...                                        ...                    ...   \n",
              " 2022-12-27                          -62.303722             100.004700   \n",
              " 2022-12-28                          -46.137447              99.163994   \n",
              " 2022-12-29                          -33.861584              98.471016   \n",
              " 2022-12-30                          -44.174469              98.683220   \n",
              " 2022-12-31                          -47.230988              98.906586   \n",
              " \n",
              "             temperature_2m_mean  dewpoint_temperature_2m_mean  \\\n",
              " date                                                            \n",
              " 1980-01-02            -2.016252                     -4.413700   \n",
              " 1980-01-03            -3.656118                     -6.241211   \n",
              " 1980-01-04            -2.459996                     -4.180906   \n",
              " 1980-01-05             2.968301                      2.380971   \n",
              " 1980-01-06             2.118327                      1.659355   \n",
              " ...                         ...                           ...   \n",
              " 2022-12-27             4.198313                      1.687125   \n",
              " 2022-12-28             6.225790                      1.450760   \n",
              " 2022-12-29            10.192290                      5.086044   \n",
              " 2022-12-30             7.558295                      5.677208   \n",
              " 2022-12-31            14.195270                      8.985682   \n",
              " \n",
              "             u_component_of_wind_10m_mean  v_component_of_wind_10m_mean  \\\n",
              " date                                                                     \n",
              " 1980-01-02                      2.565632                     -0.758888   \n",
              " 1980-01-03                      1.219823                     -0.572160   \n",
              " 1980-01-04                     -0.598617                      1.894455   \n",
              " 1980-01-05                      1.754240                      1.203699   \n",
              " 1980-01-06                      1.746916                      1.577343   \n",
              " ...                                  ...                           ...   \n",
              " 2022-12-27                      1.925024                      1.303971   \n",
              " 2022-12-28                      1.179269                      2.656137   \n",
              " 2022-12-29                      3.154282                      2.876868   \n",
              " 2022-12-30                      0.840572                      2.643623   \n",
              " 2022-12-31                      2.879860                      3.103068   \n",
              " \n",
              "             volumetric_soil_water_layer_1_mean  \\\n",
              " date                                             \n",
              " 1980-01-02                            0.376193   \n",
              " 1980-01-03                            0.372205   \n",
              " 1980-01-04                            0.370928   \n",
              " 1980-01-05                            0.419248   \n",
              " 1980-01-06                            0.424659   \n",
              " ...                                        ...   \n",
              " 2022-12-27                            0.405129   \n",
              " 2022-12-28                            0.391705   \n",
              " 2022-12-29                            0.388894   \n",
              " 2022-12-30                            0.402890   \n",
              " 2022-12-31                            0.396081   \n",
              " \n",
              "             volumetric_soil_water_layer_2_mean  ...  temperature_2m_max  \\\n",
              " date                                            ...                       \n",
              " 1980-01-02                            0.383644  ...           -0.047699   \n",
              " 1980-01-03                            0.380323  ...           -1.244080   \n",
              " 1980-01-04                            0.377237  ...            2.761292   \n",
              " 1980-01-05                            0.397217  ...            3.913483   \n",
              " 1980-01-06                            0.417397  ...            3.646729   \n",
              " ...                                        ...  ...                 ...   \n",
              " 2022-12-27                            0.414435  ...            6.544495   \n",
              " 2022-12-28                            0.405441  ...            9.653900   \n",
              " 2022-12-29                            0.396970  ...           11.789246   \n",
              " 2022-12-30                            0.396558  ...           11.979858   \n",
              " 2022-12-31                            0.399772  ...           16.838745   \n",
              " \n",
              "             dewpoint_temperature_2m_max  u_component_of_wind_10m_max  \\\n",
              " date                                                                   \n",
              " 1980-01-02                    -3.224396                     3.345064   \n",
              " 1980-01-03                    -5.092072                     1.948828   \n",
              " 1980-01-04                     1.750092                     1.602693   \n",
              " 1980-01-05                     2.978943                     2.551533   \n",
              " 1980-01-06                     2.962189                     2.593189   \n",
              " ...                                 ...                          ...   \n",
              " 2022-12-27                     3.915375                     4.172095   \n",
              " 2022-12-28                     3.456360                     2.223179   \n",
              " 2022-12-29                     6.843994                     4.993323   \n",
              " 2022-12-30                     8.702576                     4.077833   \n",
              " 2022-12-31                    10.503174                     4.555169   \n",
              " \n",
              "             v_component_of_wind_10m_max  volumetric_soil_water_layer_1_max  \\\n",
              " date                                                                         \n",
              " 1980-01-02                     0.882961                           0.378819   \n",
              " 1980-01-03                     1.573893                           0.373797   \n",
              " 1980-01-04                     2.192503                           0.384539   \n",
              " 1980-01-05                     2.273455                           0.432109   \n",
              " 1980-01-06                     2.029843                           0.430938   \n",
              " ...                                 ...                                ...   \n",
              " 2022-12-27                     2.121780                           0.419227   \n",
              " 2022-12-28                     3.409742                           0.396362   \n",
              " 2022-12-29                     4.255551                           0.406004   \n",
              " 2022-12-30                     4.471336                           0.420690   \n",
              " 2022-12-31                     3.639911                           0.409187   \n",
              " \n",
              "             volumetric_soil_water_layer_2_max  \\\n",
              " date                                            \n",
              " 1980-01-02                           0.385188   \n",
              " 1980-01-03                           0.381903   \n",
              " 1980-01-04                           0.378643   \n",
              " 1980-01-05                           0.411281   \n",
              " 1980-01-06                           0.424490   \n",
              " ...                                       ...   \n",
              " 2022-12-27                           0.417816   \n",
              " 2022-12-28                           0.409836   \n",
              " 2022-12-29                           0.400622   \n",
              " 2022-12-30                           0.400284   \n",
              " 2022-12-31                           0.401154   \n",
              " \n",
              "             volumetric_soil_water_layer_3_max  \\\n",
              " date                                            \n",
              " 1980-01-02                           0.396964   \n",
              " 1980-01-03                           0.396189   \n",
              " 1980-01-04                           0.395351   \n",
              " 1980-01-05                           0.395139   \n",
              " 1980-01-06                           0.399425   \n",
              " ...                                       ...   \n",
              " 2022-12-27                           0.411441   \n",
              " 2022-12-28                           0.411095   \n",
              " 2022-12-29                           0.409879   \n",
              " 2022-12-30                           0.408423   \n",
              " 2022-12-31                           0.407248   \n",
              " \n",
              "             volumetric_soil_water_layer_4_max  total_precipitation_sum  \\\n",
              " date                                                                     \n",
              " 1980-01-02                           0.375786                 2.420770   \n",
              " 1980-01-03                           0.376229                 0.877394   \n",
              " 1980-01-04                           0.376643                 4.994510   \n",
              " 1980-01-05                           0.377041                 3.813411   \n",
              " 1980-01-06                           0.377503                 5.309109   \n",
              " ...                                       ...                      ...   \n",
              " 2022-12-27                           0.371001                 0.046464   \n",
              " 2022-12-28                           0.372296                 0.008782   \n",
              " 2022-12-29                           0.373472                 3.104690   \n",
              " 2022-12-30                           0.374546                 3.943933   \n",
              " 2022-12-31                           0.375517                 0.048586   \n",
              " \n",
              "             potential_evaporation_sum  \n",
              " date                                   \n",
              " 1980-01-02                   0.748943  \n",
              " 1980-01-03                   0.378458  \n",
              " 1980-01-04                   0.286037  \n",
              " 1980-01-05                  -0.011865  \n",
              " 1980-01-06                   0.126726  \n",
              " ...                               ...  \n",
              " 2022-12-27                   1.082099  \n",
              " 2022-12-28                   2.245227  \n",
              " 2022-12-29                   4.070194  \n",
              " 2022-12-30                   1.129627  \n",
              " 2022-12-31                   3.919834  \n",
              " \n",
              " [15705 rows x 38 columns]}"
            ]
          },
          "execution_count": 209,
          "metadata": {},
          "output_type": "execute_result"
        }
      ],
      "source": [
        "daily_dfs"
      ]
    },
    {
      "attachments": {},
      "cell_type": "markdown",
      "metadata": {
        "id": "txsYf2Hv4-EG"
      },
      "source": [
        "# Load streamflow data\n",
        "\n",
        "**USER INPUT REQUIRED**\n",
        "\n",
        "Here, you need to add code to load area-normalized daily streamflow data (**unit: mm/d**) that will be merged with the time series from ERA5-Land.\n",
        "\n",
        "You need to do the following:\n",
        "- Load area-normalized streamflow data from any source and make sure it is in daily resolution. The assumption is that the data is in local time so that it matches the ERA5-Land aggregates we computed above in local time. If your streamflow data are not daily averages in local time make sure to adapt the aggregation code above.\n",
        "- Create a pandas DataFrame, called `df_streamflow` that is datetime-indexed and contains one column with streamflow data per gauge/basin.\n",
        "- The name of the column has to match the gauge/basin id, as in the `df_lat_lon` DataFrame and the ERA5-Land data from Earth-Engine.\n",
        "- Missing values should be indicated by `NaN` (e.g. using `np.nan`) and _not_ by negative numbers.\n",
        "\n",
        "Note: It is possible to proceed, even if you do not have streamflow data for a particular gauge. In this case, simply add a column for said basin filled with NaN values. Also note that the length of the streamflow records does not have to match the entire period of the meteorological forcings but can be less."
      ]
    },
    {
      "cell_type": "code",
      "execution_count": 157,
      "metadata": {},
      "outputs": [],
      "source": [
        "# Load your streamflow data here. See specifications above\n",
        "# Loading Weiherbach data from Weiherbach Project\n",
        "df_wb = pd.read_csv(r\"U:\\01_Analysis\\00_Antecedent_Conditions\\weiherbach\\weiherbach_data_franzi\\gauge\\q_menzingen_1990_1997.csv\")\n",
        "area_wb = 3.5 #km2\n",
        "df_wb['date'] = pd.to_datetime(df_wb['date'])\n",
        "# Set 'date' column as the index\n",
        "df_wb.set_index('date', inplace=True)"
      ]
    },
    {
      "cell_type": "code",
      "execution_count": 158,
      "metadata": {},
      "outputs": [
        {
          "name": "stdout",
          "output_type": "stream",
          "text": [
            "Missing values:\n",
            " q    0\n",
            "dtype: int64\n",
            "\n",
            "Timing intervals:\n",
            " date\n",
            "0 days 00:06:00    613679\n",
            "Name: count, dtype: int64\n"
          ]
        }
      ],
      "source": [
        "# Check for missing values\n",
        "missing_values = df_wb.isnull().sum()\n",
        "print(\"Missing values:\\n\", missing_values)\n",
        "\n",
        "# Check timing interval consistency\n",
        "timing_intervals = df_wb.index.to_series().diff().value_counts()\n",
        "print(\"\\nTiming intervals:\\n\", timing_intervals)"
      ]
    },
    {
      "cell_type": "code",
      "execution_count": 159,
      "metadata": {},
      "outputs": [
        {
          "name": "stdout",
          "output_type": "stream",
          "text": [
            "date\n",
            "1990-11-01    0.346011\n",
            "1990-11-02    0.331714\n",
            "1990-11-03    0.343851\n",
            "1990-11-04    0.358766\n",
            "1990-11-05    0.360720\n",
            "                ...   \n",
            "1997-10-27    0.444343\n",
            "1997-10-28    0.444343\n",
            "1997-10-29    0.444343\n",
            "1997-10-30    0.444343\n",
            "1997-10-31    0.444343\n",
            "Freq: D, Name: discharge_mm_6min, Length: 2557, dtype: float64\n"
          ]
        }
      ],
      "source": [
        "# Convert area from square kilometers to square meters\n",
        "area_m2 = area_wb * 1e6\n",
        "\n",
        "# Convert discharge from cubic meters per second to millimeters per 6 minutes\n",
        "df_wb['discharge_mm_6min'] = df_wb['q'] * 1000 * 60 * 6 / area_m2\n",
        "\n",
        "# Calculate total discharge for each day in millimeters\n",
        "total_discharge_per_day_mm = df_wb['discharge_mm_6min'].resample('D').sum()\n",
        "\n",
        "print(total_discharge_per_day_mm)"
      ]
    },
    {
      "cell_type": "code",
      "execution_count": 160,
      "metadata": {},
      "outputs": [
        {
          "data": {
            "text/plain": [
              "[<matplotlib.lines.Line2D at 0x1ce8a98c050>]"
            ]
          },
          "execution_count": 160,
          "metadata": {},
          "output_type": "execute_result"
        },
        {
          "data": {
            "image/png": "[encoded data removed]",
            "text/plain": [
              "<Figure size 640x480 with 1 Axes>"
            ]
          },
          "metadata": {},
          "output_type": "display_data"
        }
      ],
      "source": [
        "import matplotlib.pyplot as plt\n",
        "plt.plot(total_discharge_per_day_mm)"
      ]
    },
    {
      "cell_type": "code",
      "execution_count": 161,
      "metadata": {},
      "outputs": [
        {
          "name": "stdout",
          "output_type": "stream",
          "text": [
            "                 value\n",
            "Datum / Uhrzeit       \n",
            "1954-12-01       1.097\n",
            "1954-12-02       0.996\n",
            "1954-12-03       0.996\n",
            "1954-12-04       1.097\n",
            "1954-12-05       1.295\n",
            "...                ...\n",
            "2016-08-27       0.940\n",
            "2016-08-28       0.940\n",
            "2016-08-29       0.938\n",
            "2016-08-30       0.898\n",
            "2016-08-31       0.895\n",
            "\n",
            "[22520 rows x 1 columns]\n"
          ]
        },
        {
          "data": {
            "text/plain": [
              "<Axes: xlabel='Datum / Uhrzeit'>"
            ]
          },
          "execution_count": 161,
          "metadata": {},
          "output_type": "execute_result"
        },
        {
          "data": {
            "image/png": "[encoded data removed]",
            "text/plain": [
              "<Figure size 640x480 with 1 Axes>"
            ]
          },
          "metadata": {},
          "output_type": "display_data"
        }
      ],
      "source": [
        "#Schwarzbach data from LUBW\n",
        "df_sb = pd.read_csv(r\"C:\\Users\\as2023\\bwSyncShare\\01_Analysis\\01_Krebsbach_Reservoir\\Discharge\\LUBW\\Schwarzbach_daily.csv\", skiprows=9, encoding = 'latin1', usecols=['Datum / Uhrzeit', 'Wert'],\n",
        "                    parse_dates=['Datum / Uhrzeit'], dayfirst=True)\n",
        "\n",
        "# Set 'Datum / Uhrzeit' column as the index\n",
        "df_sb.set_index('Datum / Uhrzeit', inplace=True)\n",
        "\n",
        "# Rename the columns for convenience (optional)\n",
        "df_sb.columns = ['value']\n",
        "df_sb['value'] = df_sb['value'].str.replace(',', '.').astype(float)\n",
        "# Convert index to datetime\n",
        "df_sb.index = pd.to_datetime(df_sb.index)\n",
        "print(df_sb)\n",
        "df_sb.plot()"
      ]
    },
    {
      "cell_type": "code",
      "execution_count": 162,
      "metadata": {},
      "outputs": [
        {
          "data": {
            "text/plain": [
              "<Axes: xlabel='Datum / Uhrzeit'>"
            ]
          },
          "execution_count": 162,
          "metadata": {},
          "output_type": "execute_result"
        },
        {
          "data": {
            "image/png": "[encoded data removed]",
            "text/plain": [
              "<Figure size 640x480 with 1 Axes>"
            ]
          },
          "metadata": {},
          "output_type": "display_data"
        }
      ],
      "source": [
        "# Define the start and end dates\n",
        "START_DATE = '1980-01-01'\n",
        "END_DATE = '2023-01-01'\n",
        "\n",
        "# Subset the data from START_DATE to END_DATE\n",
        "subset_df_sb = df_sb.loc[(df_sb.index >= START_DATE) & (df_sb.index <= END_DATE)]\n",
        "\n",
        "# Calculate total discharge for each day in millimeters\n",
        "area_sb = 200 #'km2'\n",
        "total_discharge_per_day_mm2 = subset_df_sb ['value']*24*3600/(area_sb*1000)\n",
        "total_discharge_per_day_mm2.plot()"
      ]
    },
    {
      "cell_type": "code",
      "execution_count": 210,
      "metadata": {},
      "outputs": [
        {
          "name": "stdout",
          "output_type": "stream",
          "text": [
            "            testde_1  testde_2\n",
            "date                          \n",
            "1980-01-01       NaN  1.064016\n",
            "1980-01-02       NaN  1.024704\n",
            "1980-01-03       NaN  0.924048\n",
            "1980-01-04       NaN  0.879552\n",
            "1980-01-05       NaN  1.084320\n",
            "...              ...       ...\n",
            "2016-08-27       NaN  0.406080\n",
            "2016-08-28       NaN  0.406080\n",
            "2016-08-29       NaN  0.405216\n",
            "2016-08-30       NaN  0.387936\n",
            "2016-08-31       NaN  0.386640\n",
            "\n",
            "[13393 rows x 2 columns]\n"
          ]
        },
        {
          "data": {
            "text/plain": [
              "<Axes: xlabel='date'>"
            ]
          },
          "execution_count": 210,
          "metadata": {},
          "output_type": "execute_result"
        },
        {
          "data": {
            "image/png": "[encoded data removed]",
            "text/plain": [
              "<Figure size 640x480 with 1 Axes>"
            ]
          },
          "metadata": {},
          "output_type": "display_data"
        }
      ],
      "source": [
        "# Create an empty DataFrame to store the area-normalized streamflow data\n",
        "df_streamflow = pd.DataFrame(index=total_discharge_per_day_mm2.index)\n",
        "\n",
        "# Iterate over each gauge/basin in df_metadata\n",
        "for basin_id, row in df_metadata.iterrows():\n",
        "    if basin_id == 'testde_1' and 'total_discharge_per_day_mm' in locals():\n",
        "        # If data is available for basin_id 1, add it to df_streamflow\n",
        "        df_streamflow[basin_id] = total_discharge_per_day_mm\n",
        "    elif basin_id == 'testde_2' and 'total_discharge_per_day_mm2' in locals():\n",
        "        # If data is available for basin_id 2, add it to df_streamflow\n",
        "        df_streamflow[basin_id] = total_discharge_per_day_mm2\n",
        "    else:\n",
        "        # If no data is available for the basin, fill the column with NaN values\n",
        "        df_streamflow[basin_id] = np.nan\n",
        "\n",
        "# Print the DataFrame\n",
        "print(df_streamflow)\n",
        "df_streamflow.plot()"
      ]
    },
    {
      "attachments": {},
      "cell_type": "markdown",
      "metadata": {
        "id": "rbFGEOi-jz-M"
      },
      "source": [
        "### Validate loaded streamflow data\n",
        "Execute this code section to test the validity of your `df_streamflow` DataFrame."
      ]
    },
    {
      "cell_type": "code",
      "execution_count": 211,
      "metadata": {
        "colab": {
          "base_uri": "https://localhost:8080/"
        },
        "id": "QCs8mbZ43Z1m",
        "outputId": "e2dfdf8b-1c03-4ca6-8c7e-7802d11b8e77"
      },
      "outputs": [
        {
          "name": "stdout",
          "output_type": "stream",
          "text": [
            "All tests passed successfully.\n"
          ]
        }
      ],
      "source": [
        "if not 'df_streamflow' in locals():\n",
        "    raise RuntimeError(\"A variable 'df_streamflow' does not exist\")\n",
        "\n",
        "if not isinstance(df_streamflow, pd.DataFrame):\n",
        "    raise RuntimeError(\"'df_streamflow' is not a pandas DataFrame\")\n",
        "\n",
        "missing_basins = [x for x in daily_dfs.keys() if x not in df_streamflow.columns]\n",
        "if missing_basins:\n",
        "    raise RuntimeError(\"The following basins are missing in the columns of the \"\n",
        "                        f\"DataFrame: {missing_basins}\")\n",
        "  \n",
        "if not isinstance(df_streamflow.index, pd.core.indexes.datetimes.DatetimeIndex):\n",
        "    raise RuntimeError(\"The streamflow needs to have a DatetimeIndex\")\n",
        "  \n",
        "if not pd.infer_freq(df_streamflow.index) == 'D':\n",
        "    raise RuntimeError(\"The frequency of the DatetimeIndex must be daily but \"\n",
        "                        \"isn't or can't be inferred.\")\n",
        "\n",
        "if df_streamflow.lt(0.0).any().any(): \n",
        "    raise RuntimeError(\"DataFrame contains negative values. Make sure to mark invalid \"\n",
        "                       \"streamflow by NaN and not by a negative constant.\")\n",
        "# Make sure the index is called \"date\"\n",
        "df_streamflow.index.name = \"date\"\n",
        "\n",
        "print(\"All tests passed successfully.\")"
      ]
    },
    {
      "attachments": {},
      "cell_type": "markdown",
      "metadata": {
        "id": "pTcPvHryr9Gb"
      },
      "source": [
        "# Merge streamflow and ERA5-Land time series\n",
        "\n",
        "Finally, we can merge the streamflow data to the ERA5-Land time series. Note, even if the streamflow records exceed the length of the ERA5-Land period, we only keep the data for which ERA5-Land features exist.\n"
      ]
    },
    {
      "cell_type": "code",
      "execution_count": 212,
      "metadata": {
        "id": "stX_Y9UsrOdC"
      },
      "outputs": [
        {
          "data": {
            "application/vnd.jupyter.widget-view+json": {
              "model_id": "69fbcade4f144324be859b78d34a9369",
              "version_major": 2,
              "version_minor": 0
            },
            "text/plain": [
              "  0%|          | 0/2 [00:00<?, ?it/s]"
            ]
          },
          "metadata": {},
          "output_type": "display_data"
        }
      ],
      "source": [
        "for basin, basin_df in tqdm(daily_dfs.items()):\n",
        "    start_date, end_date = basin_df.index[0], basin_df.index[-1]\n",
        "    basin_df[\"streamflow\"] = df_streamflow[basin][start_date:end_date]"
      ]
    },
    {
      "attachments": {},
      "cell_type": "markdown",
      "metadata": {},
      "source": [
        "## Truncate precision of data to 2 decimal digits\n",
        "\n",
        "The data in Caravan will be shared rounded to two decimal digits. Here, we make sure that we perform the truncation before computing the climate indicies (see box below)."
      ]
    },
    {
      "cell_type": "code",
      "execution_count": 213,
      "metadata": {},
      "outputs": [
        {
          "data": {
            "application/vnd.jupyter.widget-view+json": {
              "model_id": "237788783135480c84c91b4ce1471932",
              "version_major": 2,
              "version_minor": 0
            },
            "text/plain": [
              "  0%|          | 0/2 [00:00<?, ?it/s]"
            ]
          },
          "metadata": {},
          "output_type": "display_data"
        }
      ],
      "source": [
        "for basin, df in tqdm(daily_dfs.items()):\n",
        "    daily_dfs[basin] = df.round(2).applymap('{:.2f}'.format).applymap(float)"
      ]
    },
    {
      "attachments": {},
      "cell_type": "markdown",
      "metadata": {},
      "source": [
        "## Compute climate indices\n",
        "\n",
        "Besides the HydroATLAS attributes that are part of Caravan, we also add a couple of climate indices that are derived from the ERA5-Land time series. Most of these are the same attributes provided with the CAMELS US dataset (see [Addor et al.](https://hess.copernicus.org/articles/21/5293/2017/)). The exception are the seasonality, fraction of snow and the moisture index, which are computed following [Knoben et al.](https://agupubs.onlinelibrary.wiley.com/doi/full/10.1029/2018WR022913) "
      ]
    },
    {
      "cell_type": "code",
      "execution_count": 214,
      "metadata": {},
      "outputs": [
        {
          "data": {
            "application/vnd.jupyter.widget-view+json": {
              "model_id": "cae708816a9d4267ac5b442c2258c580",
              "version_major": 2,
              "version_minor": 0
            },
            "text/plain": [
              "  0%|          | 0/2 [00:00<?, ?it/s]"
            ]
          },
          "metadata": {},
          "output_type": "display_data"
        },
        {
          "data": {
            "text/html": [
              "<div>\n",
              "<style scoped>\n",
              "    .dataframe tbody tr th:only-of-type {\n",
              "        vertical-align: middle;\n",
              "    }\n",
              "\n",
              "    .dataframe tbody tr th {\n",
              "        vertical-align: top;\n",
              "    }\n",
              "\n",
              "    .dataframe thead th {\n",
              "        text-align: right;\n",
              "    }\n",
              "</style>\n",
              "<table border=\"1\" class=\"dataframe\">\n",
              "  <thead>\n",
              "    <tr style=\"text-align: right;\">\n",
              "      <th></th>\n",
              "      <th>p_mean</th>\n",
              "      <th>pet_mean</th>\n",
              "      <th>aridity</th>\n",
              "      <th>frac_snow</th>\n",
              "      <th>moisture_index</th>\n",
              "      <th>seasonality</th>\n",
              "      <th>high_prec_freq</th>\n",
              "      <th>high_prec_dur</th>\n",
              "      <th>low_prec_freq</th>\n",
              "      <th>low_prec_dur</th>\n",
              "    </tr>\n",
              "    <tr>\n",
              "      <th>gauge_id</th>\n",
              "      <th></th>\n",
              "      <th></th>\n",
              "      <th></th>\n",
              "      <th></th>\n",
              "      <th></th>\n",
              "      <th></th>\n",
              "      <th></th>\n",
              "      <th></th>\n",
              "      <th></th>\n",
              "      <th></th>\n",
              "    </tr>\n",
              "  </thead>\n",
              "  <tbody>\n",
              "    <tr>\n",
              "      <th>testde_1</th>\n",
              "      <td>2.391965</td>\n",
              "      <td>4.033229</td>\n",
              "      <td>1.686157</td>\n",
              "      <td>0.0</td>\n",
              "      <td>-0.197862</td>\n",
              "      <td>1.338902</td>\n",
              "      <td>0.036550</td>\n",
              "      <td>1.141026</td>\n",
              "      <td>0.574812</td>\n",
              "      <td>3.61049</td>\n",
              "    </tr>\n",
              "    <tr>\n",
              "      <th>testde_2</th>\n",
              "      <td>2.514424</td>\n",
              "      <td>3.767066</td>\n",
              "      <td>1.498182</td>\n",
              "      <td>0.0</td>\n",
              "      <td>-0.120111</td>\n",
              "      <td>1.400686</td>\n",
              "      <td>0.036687</td>\n",
              "      <td>1.175439</td>\n",
              "      <td>0.569815</td>\n",
              "      <td>3.62114</td>\n",
              "    </tr>\n",
              "  </tbody>\n",
              "</table>\n",
              "</div>"
            ],
            "text/plain": [
              "            p_mean  pet_mean   aridity  frac_snow  moisture_index  \\\n",
              "gauge_id                                                            \n",
              "testde_1  2.391965  4.033229  1.686157        0.0       -0.197862   \n",
              "testde_2  2.514424  3.767066  1.498182        0.0       -0.120111   \n",
              "\n",
              "          seasonality  high_prec_freq  high_prec_dur  low_prec_freq  \\\n",
              "gauge_id                                                              \n",
              "testde_1     1.338902        0.036550       1.141026       0.574812   \n",
              "testde_2     1.400686        0.036687       1.175439       0.569815   \n",
              "\n",
              "          low_prec_dur  \n",
              "gauge_id                \n",
              "testde_1       3.61049  \n",
              "testde_2       3.62114  "
            ]
          },
          "execution_count": 214,
          "metadata": {},
          "output_type": "execute_result"
        }
      ],
      "source": [
        "climate_indices = {}\n",
        "for basin, df in tqdm(daily_dfs.items()):\n",
        "    climate_indices[basin] = caravan_utils.calculate_climate_indices(df)\n",
        "df_caravan = pd.DataFrame.from_dict(climate_indices, orient='index')\n",
        "df_caravan.index.name = \"gauge_id\"\n",
        "df_caravan.head()"
      ]
    },
    {
      "cell_type": "code",
      "execution_count": 215,
      "metadata": {},
      "outputs": [
        {
          "data": {
            "text/html": [
              "<div>\n",
              "<style scoped>\n",
              "    .dataframe tbody tr th:only-of-type {\n",
              "        vertical-align: middle;\n",
              "    }\n",
              "\n",
              "    .dataframe tbody tr th {\n",
              "        vertical-align: top;\n",
              "    }\n",
              "\n",
              "    .dataframe thead th {\n",
              "        text-align: right;\n",
              "    }\n",
              "</style>\n",
              "<table border=\"1\" class=\"dataframe\">\n",
              "  <thead>\n",
              "    <tr style=\"text-align: right;\">\n",
              "      <th></th>\n",
              "      <th>gauge_lat</th>\n",
              "      <th>gauge_lon</th>\n",
              "      <th>gauge_name</th>\n",
              "      <th>country</th>\n",
              "    </tr>\n",
              "    <tr>\n",
              "      <th>gauge_id</th>\n",
              "      <th></th>\n",
              "      <th></th>\n",
              "      <th></th>\n",
              "      <th></th>\n",
              "    </tr>\n",
              "  </thead>\n",
              "  <tbody>\n",
              "    <tr>\n",
              "      <th>testde_1</th>\n",
              "      <td>49.136540</td>\n",
              "      <td>8.74234</td>\n",
              "      <td>Menzingen Weiherbach</td>\n",
              "      <td>Germany</td>\n",
              "    </tr>\n",
              "    <tr>\n",
              "      <th>testde_2</th>\n",
              "      <td>49.314977</td>\n",
              "      <td>8.84000</td>\n",
              "      <td>Eschelbronn Schwarzbach</td>\n",
              "      <td>Germany</td>\n",
              "    </tr>\n",
              "  </tbody>\n",
              "</table>\n",
              "</div>"
            ],
            "text/plain": [
              "          gauge_lat  gauge_lon               gauge_name  country\n",
              "gauge_id                                                        \n",
              "testde_1  49.136540    8.74234     Menzingen Weiherbach  Germany\n",
              "testde_2  49.314977    8.84000  Eschelbronn Schwarzbach  Germany"
            ]
          },
          "execution_count": 215,
          "metadata": {},
          "output_type": "execute_result"
        }
      ],
      "source": [
        "df_metadata"
      ]
    },
    {
      "cell_type": "code",
      "execution_count": 220,
      "metadata": {},
      "outputs": [
        {
          "data": {
            "text/html": [
              "<div>\n",
              "<style scoped>\n",
              "    .dataframe tbody tr th:only-of-type {\n",
              "        vertical-align: middle;\n",
              "    }\n",
              "\n",
              "    .dataframe tbody tr th {\n",
              "        vertical-align: top;\n",
              "    }\n",
              "\n",
              "    .dataframe thead th {\n",
              "        text-align: right;\n",
              "    }\n",
              "</style>\n",
              "<table border=\"1\" class=\"dataframe\">\n",
              "  <thead>\n",
              "    <tr style=\"text-align: right;\">\n",
              "      <th></th>\n",
              "      <th>gauge_lat</th>\n",
              "      <th>gauge_lon</th>\n",
              "      <th>gauge_name</th>\n",
              "      <th>country</th>\n",
              "    </tr>\n",
              "    <tr>\n",
              "      <th>gauge_id</th>\n",
              "      <th></th>\n",
              "      <th></th>\n",
              "      <th></th>\n",
              "      <th></th>\n",
              "    </tr>\n",
              "  </thead>\n",
              "  <tbody>\n",
              "    <tr>\n",
              "      <th>testde_1</th>\n",
              "      <td>49.136540</td>\n",
              "      <td>8.74234</td>\n",
              "      <td>Menzingen Weiherbach</td>\n",
              "      <td>Germany</td>\n",
              "    </tr>\n",
              "    <tr>\n",
              "      <th>testde_2</th>\n",
              "      <td>49.314977</td>\n",
              "      <td>8.84000</td>\n",
              "      <td>Eschelbronn Schwarzbach</td>\n",
              "      <td>Germany</td>\n",
              "    </tr>\n",
              "  </tbody>\n",
              "</table>\n",
              "</div>"
            ],
            "text/plain": [
              "          gauge_lat  gauge_lon               gauge_name  country\n",
              "gauge_id                                                        \n",
              "testde_1  49.136540    8.74234     Menzingen Weiherbach  Germany\n",
              "testde_2  49.314977    8.84000  Eschelbronn Schwarzbach  Germany"
            ]
          },
          "execution_count": 220,
          "metadata": {},
          "output_type": "execute_result"
        }
      ],
      "source": [
        "df_metadata"
      ]
    },
    {
      "cell_type": "code",
      "execution_count": 221,
      "metadata": {},
      "outputs": [
        {
          "data": {
            "text/html": [
              "<div>\n",
              "<style scoped>\n",
              "    .dataframe tbody tr th:only-of-type {\n",
              "        vertical-align: middle;\n",
              "    }\n",
              "\n",
              "    .dataframe tbody tr th {\n",
              "        vertical-align: top;\n",
              "    }\n",
              "\n",
              "    .dataframe thead th {\n",
              "        text-align: right;\n",
              "    }\n",
              "</style>\n",
              "<table border=\"1\" class=\"dataframe\">\n",
              "  <thead>\n",
              "    <tr style=\"text-align: right;\">\n",
              "      <th></th>\n",
              "      <th>sgr_dk_sav</th>\n",
              "      <th>glc_pc_s06</th>\n",
              "      <th>glc_pc_s07</th>\n",
              "      <th>nli_ix_sav</th>\n",
              "      <th>glc_pc_s04</th>\n",
              "      <th>glc_pc_s05</th>\n",
              "      <th>glc_pc_s02</th>\n",
              "      <th>glc_pc_s03</th>\n",
              "      <th>glc_pc_s01</th>\n",
              "      <th>pet_mm_syr</th>\n",
              "      <th>...</th>\n",
              "      <th>dis_m3_pmx</th>\n",
              "      <th>dis_m3_pyr</th>\n",
              "      <th>lkv_mc_usu</th>\n",
              "      <th>rev_mc_usu</th>\n",
              "      <th>ria_ha_usu</th>\n",
              "      <th>riv_tc_usu</th>\n",
              "      <th>pop_ct_usu</th>\n",
              "      <th>dor_pc_pva</th>\n",
              "      <th>area</th>\n",
              "      <th>area_fraction_used_for_aggregation</th>\n",
              "    </tr>\n",
              "    <tr>\n",
              "      <th>gauge_id</th>\n",
              "      <th></th>\n",
              "      <th></th>\n",
              "      <th></th>\n",
              "      <th></th>\n",
              "      <th></th>\n",
              "      <th></th>\n",
              "      <th></th>\n",
              "      <th></th>\n",
              "      <th></th>\n",
              "      <th></th>\n",
              "      <th></th>\n",
              "      <th></th>\n",
              "      <th></th>\n",
              "      <th></th>\n",
              "      <th></th>\n",
              "      <th></th>\n",
              "      <th></th>\n",
              "      <th></th>\n",
              "      <th></th>\n",
              "      <th></th>\n",
              "      <th></th>\n",
              "    </tr>\n",
              "  </thead>\n",
              "  <tbody>\n",
              "    <tr>\n",
              "      <th>test_de_1</th>\n",
              "      <td>36.762490</td>\n",
              "      <td>0.059377</td>\n",
              "      <td>0.0</td>\n",
              "      <td>2881.535164</td>\n",
              "      <td>0.296887</td>\n",
              "      <td>0.0</td>\n",
              "      <td>20.821868</td>\n",
              "      <td>0.0</td>\n",
              "      <td>0.0</td>\n",
              "      <td>815.296887</td>\n",
              "      <td>...</td>\n",
              "      <td>2.634</td>\n",
              "      <td>1.402</td>\n",
              "      <td>0</td>\n",
              "      <td>0</td>\n",
              "      <td>14.083</td>\n",
              "      <td>30.240</td>\n",
              "      <td>29.998</td>\n",
              "      <td>0</td>\n",
              "      <td>3.443766</td>\n",
              "      <td>1.0</td>\n",
              "    </tr>\n",
              "    <tr>\n",
              "      <th>test_de_2</th>\n",
              "      <td>42.873368</td>\n",
              "      <td>0.000529</td>\n",
              "      <td>0.0</td>\n",
              "      <td>2592.532185</td>\n",
              "      <td>0.374546</td>\n",
              "      <td>0.0</td>\n",
              "      <td>19.448279</td>\n",
              "      <td>0.0</td>\n",
              "      <td>0.0</td>\n",
              "      <td>812.848549</td>\n",
              "      <td>...</td>\n",
              "      <td>8.891</td>\n",
              "      <td>4.603</td>\n",
              "      <td>0</td>\n",
              "      <td>0</td>\n",
              "      <td>56.006</td>\n",
              "      <td>158.822</td>\n",
              "      <td>102.903</td>\n",
              "      <td>0</td>\n",
              "      <td>196.492301</td>\n",
              "      <td>1.0</td>\n",
              "    </tr>\n",
              "  </tbody>\n",
              "</table>\n",
              "<p>2 rows × 197 columns</p>\n",
              "</div>"
            ],
            "text/plain": [
              "           sgr_dk_sav  glc_pc_s06  glc_pc_s07   nli_ix_sav  glc_pc_s04  \\\n",
              "gauge_id                                                                 \n",
              "test_de_1   36.762490    0.059377         0.0  2881.535164    0.296887   \n",
              "test_de_2   42.873368    0.000529         0.0  2592.532185    0.374546   \n",
              "\n",
              "           glc_pc_s05  glc_pc_s02  glc_pc_s03  glc_pc_s01  pet_mm_syr  ...  \\\n",
              "gauge_id                                                               ...   \n",
              "test_de_1         0.0   20.821868         0.0         0.0  815.296887  ...   \n",
              "test_de_2         0.0   19.448279         0.0         0.0  812.848549  ...   \n",
              "\n",
              "           dis_m3_pmx  dis_m3_pyr  lkv_mc_usu  rev_mc_usu  ria_ha_usu  \\\n",
              "gauge_id                                                                \n",
              "test_de_1       2.634       1.402           0           0      14.083   \n",
              "test_de_2       8.891       4.603           0           0      56.006   \n",
              "\n",
              "           riv_tc_usu  pop_ct_usu  dor_pc_pva        area  \\\n",
              "gauge_id                                                    \n",
              "test_de_1      30.240      29.998           0    3.443766   \n",
              "test_de_2     158.822     102.903           0  196.492301   \n",
              "\n",
              "           area_fraction_used_for_aggregation  \n",
              "gauge_id                                       \n",
              "test_de_1                                 1.0  \n",
              "test_de_2                                 1.0  \n",
              "\n",
              "[2 rows x 197 columns]"
            ]
          },
          "execution_count": 221,
          "metadata": {},
          "output_type": "execute_result"
        }
      ],
      "source": [
        "df_hydroatlas"
      ]
    },
    {
      "attachments": {},
      "cell_type": "markdown",
      "metadata": {
        "id": "4dE_mTOn4nI5"
      },
      "source": [
        "# Add area to metadata and remove from HydroATLAS attributes\n",
        "\n",
        "The basin area is stored in the Earth Engine attribute file. We remove the column from there and drop it from the HydroATLAS attributes."
      ]
    },
    {
      "cell_type": "code",
      "execution_count": 222,
      "metadata": {
        "colab": {
          "base_uri": "https://localhost:8080/",
          "height": 237
        },
        "id": "kcsgQTTX4zj9",
        "outputId": "0ff57ff5-f3c5-459c-b532-8ad25ec1d06f"
      },
      "outputs": [],
      "source": [
        "# Make sure we only add rows of basins for which we processed time series data\n",
        "df_metadata = df_metadata.loc[basins2]\n",
        "\n",
        "# Make sure we only add the lat/lon column\n",
        "drop_cols = [x for x in df_metadata.columns if x not in ['gauge_lat', 'gauge_lon', 'gauge_name', 'country']]\n",
        "df_metadata = df_metadata.drop(drop_cols, axis=1)\n",
        "\n",
        "# Add area to metadata df.\n",
        "df_hydroatlas = pd.read_csv(ATTRIBUTE_FILE, index_col='gauge_id')\n",
        "df_metadata['area'] = df_hydroatlas.loc[basins2, 'area']\n",
        "\n",
        "# Remove area from hydroatlas features.\n",
        "df_hydroatlas = df_hydroatlas.drop(['area'], axis=1)\n",
        "\n",
        "# Sort all DataFrames alphanumerically\n",
        "df_metadata = df_metadata.sort_index(axis=0)\n",
        "df_caravan= df_caravan.sort_index(axis=0)\n",
        "df_hydroatlas = df_hydroatlas.sort_index(axis=0)"
      ]
    },
    {
      "attachments": {},
      "cell_type": "markdown",
      "metadata": {
        "id": "ZcFTm2tE3ldt"
      },
      "source": [
        "# Save results to disk\n",
        "\n",
        "Having everything processed, we can finally store the results to disk to extend the Caravan dataset. The data is stored in the following structure (to mimic the fold structure of the Caravan dataset) and can be integrated as-is into the original Caravan dataset.\n",
        "\n",
        "- `{OUTPUT_DIR}/`: The outermost folder is the user-defined `OUTPUT_DIR` (see General Configuration section). All resulting data will be stored in this folder, mimicking the folder structure of the Caravan dataset.\n",
        "- `{OUTPUT_DIR}/attributes/{BASIN_PREFIX}/`: This folder will contain three files. The first is `attributes_caravan_{BASIN_PREFIX}.csv`, which contains the climate indices computed above. The second is `attributes_hydroatlas_{BASIN_PREFIX}.csv`, which contain the HydroATLAS attributes as saved by Earth Engine. The third is `attributes_other_{BASIN_PREFIX}.csv`, which contain the metadata information, such as gauge_lat, gauge_lon, gauge_name, country, and area.\n",
        "- `{OUTPUT_DIR}/timeseries`: The per-basin time series data will be stored in this folder. Two options exist: as netCDF file or as csv file. For each option, a different folder is created, `{OUTPUT_DIR}/timeseries/netcdf` and `{OUTPUT_DIR}/timeseries/csv`. In each of these folders, you will find a folder similar to the user-defined `BASIN_PREFIX`. This folder finally contains one netCDF (or one csv file) per basin, called `{gauge_id}.nc` (or `{gauge_id}.csv`).\n",
        "\n",
        "This folder/file structure can be copied directly into the original Caravan dataset (or stored separately, as you prefer)."
      ]
    },
    {
      "attachments": {},
      "cell_type": "markdown",
      "metadata": {
        "id": "mmQkGtVT6_D0"
      },
      "source": [
        "## Save attributes\n",
        "\n",
        "This block will create two files:\n",
        "\n",
        "- `{OUTPUT_DIR}/attributes/{BASIN_PREFIX}/attributes_hydroatlas_{BASIN_PREFIX}.csv`: The HydroATLAS attributes as saved from Earth Engine.\n",
        "- `{OUTPUT_DIR}/attributes/{BASIN_PREFIX}/attributes_caravan_{BASIN_PREFIX}.csv`: The climate indices computed in this notebook.\n",
        "- `{OUTPUT_DIR}/attributes/{BASIN_PREFIX}/attributes_other_{BASIN_PREFIX}.csv`: Metadata information, such as gauge_lat, gauge_lon, gauge_name, country, and area."
      ]
    },
    {
      "cell_type": "code",
      "execution_count": 223,
      "metadata": {
        "id": "VRlGqLMH6-Hl"
      },
      "outputs": [],
      "source": [
        "attribute_dir = OUTPUT_DIR / \"attributes\" / BASIN_PREFIX\n",
        "if not attribute_dir.is_dir():\n",
        "    attribute_dir.mkdir(parents=True)\n",
        "\n",
        "# Store climate attributes from DataFrame to disk.\n",
        "df_metadata.to_csv(attribute_dir / f\"attributes_other_{BASIN_PREFIX}.csv\")\n",
        "df_caravan.to_csv(attribute_dir / f\"attributes_caravan_{BASIN_PREFIX}.csv\")\n",
        "df_hydroatlas.to_csv(attribute_dir / f\"attributes_hydroatlas_{BASIN_PREFIX}.csv\")\n"
      ]
    },
    {
      "attachments": {},
      "cell_type": "markdown",
      "metadata": {
        "id": "9LmcR6aG4ggq"
      },
      "source": [
        "## Save as netCDF\n",
        "\n",
        "Execute the sections below, if you want to store the data in netCDF format. Because netCDF can include metadata information, we will add some metadata before storing to disk. More specifically, we add the following information:\n",
        "\n",
        "- `Units`: Explanation of the physical unit of each variable.\n",
        "- `Timezone`: A string defining the local time zone of this gauge.\n",
        "- `Sources`: A user-defined string (see below) that adds information about the source of the data. Here you can add information about the source (and license) of the streamflow data.\n",
        "\n",
        "If you do not want to store the data in netCDF format, proceed to the section \"Save as csv\"."
      ]
    },
    {
      "attachments": {},
      "cell_type": "markdown",
      "metadata": {
        "id": "pid2NKkG7sAj"
      },
      "source": [
        "### Metadata information\n",
        "\n",
        "Use the variable `data_sources` to add any information, e.g., about the source of the streamflow data. It is recommended to include the statement of ERA5-Land, especially if you want to share your data."
      ]
    },
    {
      "cell_type": "code",
      "execution_count": null,
      "metadata": {
        "id": "XUyL5-XuHfAE"
      },
      "outputs": [],
      "source": [
        "# Add any information that you like to this string.\n",
        "data_sources = ('All forcing and state variables are derived from ERA5-Land ' \n",
        "                'hourly by ECMWF. Streamflow data ...')\n",
        "\n",
        "if not isinstance(data_sources, str):\n",
        "    raise RuntimeError(\"'data_sources' has to be a string.\")"
      ]
    },
    {
      "attachments": {},
      "cell_type": "markdown",
      "metadata": {
        "id": "9AHSa6Le-w_y"
      },
      "source": [
        "### Convert to xarray Dataset, add metadata, and save to disk"
      ]
    },
    {
      "cell_type": "code",
      "execution_count": null,
      "metadata": {
        "id": "a2UaUye7-jpA"
      },
      "outputs": [],
      "source": [
        "tf = TimezoneFinder()\n",
        "\n",
        "netcdf_dir = OUTPUT_DIR / \"timeseries\" / \"netcdf\" / BASIN_PREFIX\n",
        "\n",
        "for basin, basin_df in tqdm(daily_dfs.items()):\n",
        "    xr = xarray.Dataset.from_dataframe(basin_df).astype(np.float32)\n",
        "\n",
        "    metadata = caravan_utils.get_metadata_info(xr)\n",
        "    unit_info = \"\"\n",
        "    for k, v in metadata.items():\n",
        "        unit_info = unit_info + f\"{k}: {v}\\n\"\n",
        "    xr.attrs[\"Units\"] = unit_info\n",
        "\n",
        "    lat = df_metadata.loc[df_metadata.index == basin, \"gauge_lat\"].values[0]\n",
        "    lon = df_metadata.loc[df_metadata.index == basin, \"gauge_lon\"].values[0]\n",
        "    xr.attrs[\"Timezone\"] = tf.timezone_at(lat=lat, lng=lon)\n",
        "    xr.attrs[\"Sources\"] = data_sources\n",
        "\n",
        "    output_path = netcdf_dir / f\"{basin}.nc\"\n",
        "    if not output_path.parent.is_dir():\n",
        "        output_path.parent.mkdir(parents=True)\n",
        "    xr.to_netcdf(output_path)\n",
        "\n",
        "print(f\"netCDF files stored at {netcdf_dir}\")"
      ]
    },
    {
      "attachments": {},
      "cell_type": "markdown",
      "metadata": {
        "id": "dZWmIQGVB_8O"
      },
      "source": [
        "## Save as csv\n",
        "\n",
        "Execute the section below if you want to (additionally) store the data in csv format. Here, we can't add any metadata information, so make sure to share the information about license/data sources in other forms when sharing the data."
      ]
    },
    {
      "cell_type": "code",
      "execution_count": 224,
      "metadata": {
        "id": "RInQU3CT_95p"
      },
      "outputs": [
        {
          "data": {
            "application/vnd.jupyter.widget-view+json": {
              "model_id": "2c15b7a4778c4c7e9e245d388d1c8f88",
              "version_major": 2,
              "version_minor": 0
            },
            "text/plain": [
              "  0%|          | 0/2 [00:00<?, ?it/s]"
            ]
          },
          "metadata": {},
          "output_type": "display_data"
        },
        {
          "name": "stdout",
          "output_type": "stream",
          "text": [
            "csv files stored at S:\\ashish\\02_Software\\Github\\Caravan_local\\data\\processed\\timeseries\\csv\\testde\n"
          ]
        }
      ],
      "source": [
        "csv_dir = OUTPUT_DIR / \"timeseries\" / \"csv\" / BASIN_PREFIX\n",
        "for basin, basin_df in tqdm(daily_dfs.items()):\n",
        "    output_path = csv_dir / f\"{basin}.csv\"\n",
        "    if not output_path.parent.is_dir():\n",
        "        output_path.parent.mkdir(parents=True)\n",
        "    df = basin_df.round(2).applymap('{:.2f}'.format).applymap(float)\n",
        "    df.to_csv(output_path)\n",
        "\n",
        "print(f\"csv files stored at {csv_dir}\")"
      ]
    },
    {
      "attachments": {},
      "cell_type": "markdown",
      "metadata": {},
      "source": [
        "## Remove temporary directory"
      ]
    },
    {
      "cell_type": "code",
      "execution_count": 225,
      "metadata": {},
      "outputs": [],
      "source": [
        "shutil.rmtree(str(OUTPUT_DIR / \"temp\"))"
      ]
    },
    {
      "attachments": {},
      "cell_type": "markdown",
      "metadata": {
        "id": "tV9cJ48kKpE_"
      },
      "source": [
        "# End\n",
        "\n",
        "You have reached the end of this notebook. As a result, you should have new data that integrates seamlessly into the Caravan dataset. As the intend of Caravan is to be a dynamically growing, open source dataset, consider sharing your data with the rest of the community. When doing so, make sure that the license of the streamflow data allows further distribution. Currently, the place for sharing data and discussing extensions of Caravan is the [Github discussion forum]() of the Caravan dataset."
      ]
    }
  ],
  "metadata": {
    "colab": {
      "collapsed_sections": [],
      "name": "Caravan_part2_postprocess_locally.ipynb",
      "provenance": [],
      "toc_visible": true
    },
    "kernelspec": {
      "display_name": "Python 3.7.13 ('caravan')",
      "language": "python",
      "name": "python3"
    },
    "language_info": {
      "codemirror_mode": {
        "name": "ipython",
        "version": 3
      },
      "file_extension": ".py",
      "mimetype": "text/x-python",
      "name": "python",
      "nbconvert_exporter": "python",
      "pygments_lexer": "ipython3",
      "version": "3.11.5"
    },
    "vscode": {
      "interpreter": {
        "hash": "16ca22d4d6ad62e956678673fa39b18ef107fac5eae1759b233d19137d7ec387"
      }
    },
    "widgets": {
      "application/vnd.jupyter.widget-state+json": {
        "0551978b6170471690f8145537ce3b85": {
          "model_module": "@jupyter-widgets/controls",
          "model_module_version": "1.5.0",
          "model_name": "ProgressStyleModel",
          "state": {
            "_model_module": "@jupyter-widgets/controls",
            "_model_module_version": "1.5.0",
            "_model_name": "ProgressStyleModel",
            "_view_count": null,
            "_view_module": "@jupyter-widgets/base",
            "_view_module_version": "1.2.0",
            "_view_name": "StyleView",
            "bar_color": null,
            "description_width": ""
          }
        },
        "05f3fefab29a49f3bcd95a32e61c12e8": {
          "model_module": "@jupyter-widgets/controls",
          "model_module_version": "1.5.0",
          "model_name": "HTMLModel",
          "state": {
            "_dom_classes": [],
            "_model_module": "@jupyter-widgets/controls",
            "_model_module_version": "1.5.0",
            "_model_name": "HTMLModel",
            "_view_count": null,
            "_view_module": "@jupyter-widgets/controls",
            "_view_module_version": "1.5.0",
            "_view_name": "HTMLView",
            "description": "",
            "description_tooltip": null,
            "layout": "IPY_MODEL_7ceaddba1f97468093be4ebba6a8b1c8",
            "placeholder": "​",
            "style": "IPY_MODEL_9ceb9dcc604f472399c11af374590258",
            "value": "100%"
          }
        },
        "2205d92a1d5446e4926fdbfe1188ed84": {
          "model_module": "@jupyter-widgets/controls",
          "model_module_version": "1.5.0",
          "model_name": "DescriptionStyleModel",
          "state": {
            "_model_module": "@jupyter-widgets/controls",
            "_model_module_version": "1.5.0",
            "_model_name": "DescriptionStyleModel",
            "_view_count": null,
            "_view_module": "@jupyter-widgets/base",
            "_view_module_version": "1.2.0",
            "_view_name": "StyleView",
            "description_width": ""
          }
        },
        "28bcbfba0dad4138aeafef2fe138c119": {
          "model_module": "@jupyter-widgets/base",
          "model_module_version": "1.2.0",
          "model_name": "LayoutModel",
          "state": {
            "_model_module": "@jupyter-widgets/base",
            "_model_module_version": "1.2.0",
            "_model_name": "LayoutModel",
            "_view_count": null,
            "_view_module": "@jupyter-widgets/base",
            "_view_module_version": "1.2.0",
            "_view_name": "LayoutView",
            "align_content": null,
            "align_items": null,
            "align_self": null,
            "border": null,
            "bottom": null,
            "display": null,
            "flex": null,
            "flex_flow": null,
            "grid_area": null,
            "grid_auto_columns": null,
            "grid_auto_flow": null,
            "grid_auto_rows": null,
            "grid_column": null,
            "grid_gap": null,
            "grid_row": null,
            "grid_template_areas": null,
            "grid_template_columns": null,
            "grid_template_rows": null,
            "height": null,
            "justify_content": null,
            "justify_items": null,
            "left": null,
            "margin": null,
            "max_height": null,
            "max_width": null,
            "min_height": null,
            "min_width": null,
            "object_fit": null,
            "object_position": null,
            "order": null,
            "overflow": null,
            "overflow_x": null,
            "overflow_y": null,
            "padding": null,
            "right": null,
            "top": null,
            "visibility": null,
            "width": null
          }
        },
        "515a0303d1734242a53a03be63f03a72": {
          "model_module": "@jupyter-widgets/controls",
          "model_module_version": "1.5.0",
          "model_name": "HTMLModel",
          "state": {
            "_dom_classes": [],
            "_model_module": "@jupyter-widgets/controls",
            "_model_module_version": "1.5.0",
            "_model_name": "HTMLModel",
            "_view_count": null,
            "_view_module": "@jupyter-widgets/controls",
            "_view_module_version": "1.5.0",
            "_view_name": "HTMLView",
            "description": "",
            "description_tooltip": null,
            "layout": "IPY_MODEL_8de72c2c744b46cb84c2f02cecd7098a",
            "placeholder": "​",
            "style": "IPY_MODEL_8044f418241b4b05b95ad611cb215348",
            "value": " 2/2 [00:00&lt;00:00,  1.35it/s]"
          }
        },
        "52a6fb9fc1bc47ee879bd81d4a25a0dd": {
          "model_module": "@jupyter-widgets/base",
          "model_module_version": "1.2.0",
          "model_name": "LayoutModel",
          "state": {
            "_model_module": "@jupyter-widgets/base",
            "_model_module_version": "1.2.0",
            "_model_name": "LayoutModel",
            "_view_count": null,
            "_view_module": "@jupyter-widgets/base",
            "_view_module_version": "1.2.0",
            "_view_name": "LayoutView",
            "align_content": null,
            "align_items": null,
            "align_self": null,
            "border": null,
            "bottom": null,
            "display": null,
            "flex": null,
            "flex_flow": null,
            "grid_area": null,
            "grid_auto_columns": null,
            "grid_auto_flow": null,
            "grid_auto_rows": null,
            "grid_column": null,
            "grid_gap": null,
            "grid_row": null,
            "grid_template_areas": null,
            "grid_template_columns": null,
            "grid_template_rows": null,
            "height": null,
            "justify_content": null,
            "justify_items": null,
            "left": null,
            "margin": null,
            "max_height": null,
            "max_width": null,
            "min_height": null,
            "min_width": null,
            "object_fit": null,
            "object_position": null,
            "order": null,
            "overflow": null,
            "overflow_x": null,
            "overflow_y": null,
            "padding": null,
            "right": null,
            "top": null,
            "visibility": null,
            "width": null
          }
        },
        "5776f129e5c44339aebfef2d970030aa": {
          "model_module": "@jupyter-widgets/controls",
          "model_module_version": "1.5.0",
          "model_name": "DescriptionStyleModel",
          "state": {
            "_model_module": "@jupyter-widgets/controls",
            "_model_module_version": "1.5.0",
            "_model_name": "DescriptionStyleModel",
            "_view_count": null,
            "_view_module": "@jupyter-widgets/base",
            "_view_module_version": "1.2.0",
            "_view_name": "StyleView",
            "description_width": ""
          }
        },
        "61152fc0162b4f51a390435a6864b99c": {
          "model_module": "@jupyter-widgets/base",
          "model_module_version": "1.2.0",
          "model_name": "LayoutModel",
          "state": {
            "_model_module": "@jupyter-widgets/base",
            "_model_module_version": "1.2.0",
            "_model_name": "LayoutModel",
            "_view_count": null,
            "_view_module": "@jupyter-widgets/base",
            "_view_module_version": "1.2.0",
            "_view_name": "LayoutView",
            "align_content": null,
            "align_items": null,
            "align_self": null,
            "border": null,
            "bottom": null,
            "display": null,
            "flex": null,
            "flex_flow": null,
            "grid_area": null,
            "grid_auto_columns": null,
            "grid_auto_flow": null,
            "grid_auto_rows": null,
            "grid_column": null,
            "grid_gap": null,
            "grid_row": null,
            "grid_template_areas": null,
            "grid_template_columns": null,
            "grid_template_rows": null,
            "height": null,
            "justify_content": null,
            "justify_items": null,
            "left": null,
            "margin": null,
            "max_height": null,
            "max_width": null,
            "min_height": null,
            "min_width": null,
            "object_fit": null,
            "object_position": null,
            "order": null,
            "overflow": null,
            "overflow_x": null,
            "overflow_y": null,
            "padding": null,
            "right": null,
            "top": null,
            "visibility": null,
            "width": null
          }
        },
        "61b78d2b8a1e4caab0fc0bb555daebdf": {
          "model_module": "@jupyter-widgets/controls",
          "model_module_version": "1.5.0",
          "model_name": "ProgressStyleModel",
          "state": {
            "_model_module": "@jupyter-widgets/controls",
            "_model_module_version": "1.5.0",
            "_model_name": "ProgressStyleModel",
            "_view_count": null,
            "_view_module": "@jupyter-widgets/base",
            "_view_module_version": "1.2.0",
            "_view_name": "StyleView",
            "bar_color": null,
            "description_width": ""
          }
        },
        "624e3194f9964e89bf9684cdeea07211": {
          "model_module": "@jupyter-widgets/controls",
          "model_module_version": "1.5.0",
          "model_name": "DescriptionStyleModel",
          "state": {
            "_model_module": "@jupyter-widgets/controls",
            "_model_module_version": "1.5.0",
            "_model_name": "DescriptionStyleModel",
            "_view_count": null,
            "_view_module": "@jupyter-widgets/base",
            "_view_module_version": "1.2.0",
            "_view_name": "StyleView",
            "description_width": ""
          }
        },
        "6b5ac87371fa4d7fa3a7c6e3c4f1fcd0": {
          "model_module": "@jupyter-widgets/controls",
          "model_module_version": "1.5.0",
          "model_name": "FloatProgressModel",
          "state": {
            "_dom_classes": [],
            "_model_module": "@jupyter-widgets/controls",
            "_model_module_version": "1.5.0",
            "_model_name": "FloatProgressModel",
            "_view_count": null,
            "_view_module": "@jupyter-widgets/controls",
            "_view_module_version": "1.5.0",
            "_view_name": "ProgressView",
            "bar_style": "success",
            "description": "",
            "description_tooltip": null,
            "layout": "IPY_MODEL_52a6fb9fc1bc47ee879bd81d4a25a0dd",
            "max": 2,
            "min": 0,
            "orientation": "horizontal",
            "style": "IPY_MODEL_0551978b6170471690f8145537ce3b85",
            "value": 2
          }
        },
        "75089d3f666644fe8ebf82e263683fab": {
          "model_module": "@jupyter-widgets/base",
          "model_module_version": "1.2.0",
          "model_name": "LayoutModel",
          "state": {
            "_model_module": "@jupyter-widgets/base",
            "_model_module_version": "1.2.0",
            "_model_name": "LayoutModel",
            "_view_count": null,
            "_view_module": "@jupyter-widgets/base",
            "_view_module_version": "1.2.0",
            "_view_name": "LayoutView",
            "align_content": null,
            "align_items": null,
            "align_self": null,
            "border": null,
            "bottom": null,
            "display": null,
            "flex": null,
            "flex_flow": null,
            "grid_area": null,
            "grid_auto_columns": null,
            "grid_auto_flow": null,
            "grid_auto_rows": null,
            "grid_column": null,
            "grid_gap": null,
            "grid_row": null,
            "grid_template_areas": null,
            "grid_template_columns": null,
            "grid_template_rows": null,
            "height": null,
            "justify_content": null,
            "justify_items": null,
            "left": null,
            "margin": null,
            "max_height": null,
            "max_width": null,
            "min_height": null,
            "min_width": null,
            "object_fit": null,
            "object_position": null,
            "order": null,
            "overflow": null,
            "overflow_x": null,
            "overflow_y": null,
            "padding": null,
            "right": null,
            "top": null,
            "visibility": null,
            "width": null
          }
        },
        "7ceaddba1f97468093be4ebba6a8b1c8": {
          "model_module": "@jupyter-widgets/base",
          "model_module_version": "1.2.0",
          "model_name": "LayoutModel",
          "state": {
            "_model_module": "@jupyter-widgets/base",
            "_model_module_version": "1.2.0",
            "_model_name": "LayoutModel",
            "_view_count": null,
            "_view_module": "@jupyter-widgets/base",
            "_view_module_version": "1.2.0",
            "_view_name": "LayoutView",
            "align_content": null,
            "align_items": null,
            "align_self": null,
            "border": null,
            "bottom": null,
            "display": null,
            "flex": null,
            "flex_flow": null,
            "grid_area": null,
            "grid_auto_columns": null,
            "grid_auto_flow": null,
            "grid_auto_rows": null,
            "grid_column": null,
            "grid_gap": null,
            "grid_row": null,
            "grid_template_areas": null,
            "grid_template_columns": null,
            "grid_template_rows": null,
            "height": null,
            "justify_content": null,
            "justify_items": null,
            "left": null,
            "margin": null,
            "max_height": null,
            "max_width": null,
            "min_height": null,
            "min_width": null,
            "object_fit": null,
            "object_position": null,
            "order": null,
            "overflow": null,
            "overflow_x": null,
            "overflow_y": null,
            "padding": null,
            "right": null,
            "top": null,
            "visibility": null,
            "width": null
          }
        },
        "7f42559288c645d2a0f3960ac05e30bc": {
          "model_module": "@jupyter-widgets/base",
          "model_module_version": "1.2.0",
          "model_name": "LayoutModel",
          "state": {
            "_model_module": "@jupyter-widgets/base",
            "_model_module_version": "1.2.0",
            "_model_name": "LayoutModel",
            "_view_count": null,
            "_view_module": "@jupyter-widgets/base",
            "_view_module_version": "1.2.0",
            "_view_name": "LayoutView",
            "align_content": null,
            "align_items": null,
            "align_self": null,
            "border": null,
            "bottom": null,
            "display": null,
            "flex": null,
            "flex_flow": null,
            "grid_area": null,
            "grid_auto_columns": null,
            "grid_auto_flow": null,
            "grid_auto_rows": null,
            "grid_column": null,
            "grid_gap": null,
            "grid_row": null,
            "grid_template_areas": null,
            "grid_template_columns": null,
            "grid_template_rows": null,
            "height": null,
            "justify_content": null,
            "justify_items": null,
            "left": null,
            "margin": null,
            "max_height": null,
            "max_width": null,
            "min_height": null,
            "min_width": null,
            "object_fit": null,
            "object_position": null,
            "order": null,
            "overflow": null,
            "overflow_x": null,
            "overflow_y": null,
            "padding": null,
            "right": null,
            "top": null,
            "visibility": null,
            "width": null
          }
        },
        "8044f418241b4b05b95ad611cb215348": {
          "model_module": "@jupyter-widgets/controls",
          "model_module_version": "1.5.0",
          "model_name": "DescriptionStyleModel",
          "state": {
            "_model_module": "@jupyter-widgets/controls",
            "_model_module_version": "1.5.0",
            "_model_name": "DescriptionStyleModel",
            "_view_count": null,
            "_view_module": "@jupyter-widgets/base",
            "_view_module_version": "1.2.0",
            "_view_name": "StyleView",
            "description_width": ""
          }
        },
        "831f1ae7ad2a4e0a953ae5e25ee5e711": {
          "model_module": "@jupyter-widgets/controls",
          "model_module_version": "1.5.0",
          "model_name": "FloatProgressModel",
          "state": {
            "_dom_classes": [],
            "_model_module": "@jupyter-widgets/controls",
            "_model_module_version": "1.5.0",
            "_model_name": "FloatProgressModel",
            "_view_count": null,
            "_view_module": "@jupyter-widgets/controls",
            "_view_module_version": "1.5.0",
            "_view_name": "ProgressView",
            "bar_style": "success",
            "description": "",
            "description_tooltip": null,
            "layout": "IPY_MODEL_d1c5dd72745a4cc5a1e534e40c9148eb",
            "max": 2,
            "min": 0,
            "orientation": "horizontal",
            "style": "IPY_MODEL_61b78d2b8a1e4caab0fc0bb555daebdf",
            "value": 2
          }
        },
        "8a389005ad7b4a55b6b2fc84136ed9b1": {
          "model_module": "@jupyter-widgets/controls",
          "model_module_version": "1.5.0",
          "model_name": "DescriptionStyleModel",
          "state": {
            "_model_module": "@jupyter-widgets/controls",
            "_model_module_version": "1.5.0",
            "_model_name": "DescriptionStyleModel",
            "_view_count": null,
            "_view_module": "@jupyter-widgets/base",
            "_view_module_version": "1.2.0",
            "_view_name": "StyleView",
            "description_width": ""
          }
        },
        "8de72c2c744b46cb84c2f02cecd7098a": {
          "model_module": "@jupyter-widgets/base",
          "model_module_version": "1.2.0",
          "model_name": "LayoutModel",
          "state": {
            "_model_module": "@jupyter-widgets/base",
            "_model_module_version": "1.2.0",
            "_model_name": "LayoutModel",
            "_view_count": null,
            "_view_module": "@jupyter-widgets/base",
            "_view_module_version": "1.2.0",
            "_view_name": "LayoutView",
            "align_content": null,
            "align_items": null,
            "align_self": null,
            "border": null,
            "bottom": null,
            "display": null,
            "flex": null,
            "flex_flow": null,
            "grid_area": null,
            "grid_auto_columns": null,
            "grid_auto_flow": null,
            "grid_auto_rows": null,
            "grid_column": null,
            "grid_gap": null,
            "grid_row": null,
            "grid_template_areas": null,
            "grid_template_columns": null,
            "grid_template_rows": null,
            "height": null,
            "justify_content": null,
            "justify_items": null,
            "left": null,
            "margin": null,
            "max_height": null,
            "max_width": null,
            "min_height": null,
            "min_width": null,
            "object_fit": null,
            "object_position": null,
            "order": null,
            "overflow": null,
            "overflow_x": null,
            "overflow_y": null,
            "padding": null,
            "right": null,
            "top": null,
            "visibility": null,
            "width": null
          }
        },
        "96927a3d64ae4549a37b6ad07cf1620d": {
          "model_module": "@jupyter-widgets/controls",
          "model_module_version": "1.5.0",
          "model_name": "HTMLModel",
          "state": {
            "_dom_classes": [],
            "_model_module": "@jupyter-widgets/controls",
            "_model_module_version": "1.5.0",
            "_model_name": "HTMLModel",
            "_view_count": null,
            "_view_module": "@jupyter-widgets/controls",
            "_view_module_version": "1.5.0",
            "_view_name": "HTMLView",
            "description": "",
            "description_tooltip": null,
            "layout": "IPY_MODEL_f861974ab8e5439e850005c5c7a9b005",
            "placeholder": "​",
            "style": "IPY_MODEL_8a389005ad7b4a55b6b2fc84136ed9b1",
            "value": "100%"
          }
        },
        "9ceb9dcc604f472399c11af374590258": {
          "model_module": "@jupyter-widgets/controls",
          "model_module_version": "1.5.0",
          "model_name": "DescriptionStyleModel",
          "state": {
            "_model_module": "@jupyter-widgets/controls",
            "_model_module_version": "1.5.0",
            "_model_name": "DescriptionStyleModel",
            "_view_count": null,
            "_view_module": "@jupyter-widgets/base",
            "_view_module_version": "1.2.0",
            "_view_name": "StyleView",
            "description_width": ""
          }
        },
        "9ec4d400994e4034975bd9a9de1a9622": {
          "model_module": "@jupyter-widgets/controls",
          "model_module_version": "1.5.0",
          "model_name": "HBoxModel",
          "state": {
            "_dom_classes": [],
            "_model_module": "@jupyter-widgets/controls",
            "_model_module_version": "1.5.0",
            "_model_name": "HBoxModel",
            "_view_count": null,
            "_view_module": "@jupyter-widgets/controls",
            "_view_module_version": "1.5.0",
            "_view_name": "HBoxView",
            "box_style": "",
            "children": [
              "IPY_MODEL_f416a0e2889d4d0897c4ba8f22fa0525",
              "IPY_MODEL_6b5ac87371fa4d7fa3a7c6e3c4f1fcd0",
              "IPY_MODEL_a16a036b1aa546548b6537860f932335"
            ],
            "layout": "IPY_MODEL_28bcbfba0dad4138aeafef2fe138c119"
          }
        },
        "9fa0de5ba3e54a94a950e0b037969965": {
          "model_module": "@jupyter-widgets/controls",
          "model_module_version": "1.5.0",
          "model_name": "HTMLModel",
          "state": {
            "_dom_classes": [],
            "_model_module": "@jupyter-widgets/controls",
            "_model_module_version": "1.5.0",
            "_model_name": "HTMLModel",
            "_view_count": null,
            "_view_module": "@jupyter-widgets/controls",
            "_view_module_version": "1.5.0",
            "_view_name": "HTMLView",
            "description": "",
            "description_tooltip": null,
            "layout": "IPY_MODEL_e5735a34bdc846e88a594b3e64b616b1",
            "placeholder": "​",
            "style": "IPY_MODEL_2205d92a1d5446e4926fdbfe1188ed84",
            "value": " 2/2 [00:00&lt;00:00, 24.43it/s]"
          }
        },
        "a16a036b1aa546548b6537860f932335": {
          "model_module": "@jupyter-widgets/controls",
          "model_module_version": "1.5.0",
          "model_name": "HTMLModel",
          "state": {
            "_dom_classes": [],
            "_model_module": "@jupyter-widgets/controls",
            "_model_module_version": "1.5.0",
            "_model_name": "HTMLModel",
            "_view_count": null,
            "_view_module": "@jupyter-widgets/controls",
            "_view_module_version": "1.5.0",
            "_view_name": "HTMLView",
            "description": "",
            "description_tooltip": null,
            "layout": "IPY_MODEL_61152fc0162b4f51a390435a6864b99c",
            "placeholder": "​",
            "style": "IPY_MODEL_5776f129e5c44339aebfef2d970030aa",
            "value": " 2/2 [00:00&lt;00:00, 20.03it/s]"
          }
        },
        "b047b0b785084102a774d0d796c74d76": {
          "model_module": "@jupyter-widgets/controls",
          "model_module_version": "1.5.0",
          "model_name": "ProgressStyleModel",
          "state": {
            "_model_module": "@jupyter-widgets/controls",
            "_model_module_version": "1.5.0",
            "_model_name": "ProgressStyleModel",
            "_view_count": null,
            "_view_module": "@jupyter-widgets/base",
            "_view_module_version": "1.2.0",
            "_view_name": "StyleView",
            "bar_color": null,
            "description_width": ""
          }
        },
        "b130ee650d8f4d46954fafe735778d1a": {
          "model_module": "@jupyter-widgets/base",
          "model_module_version": "1.2.0",
          "model_name": "LayoutModel",
          "state": {
            "_model_module": "@jupyter-widgets/base",
            "_model_module_version": "1.2.0",
            "_model_name": "LayoutModel",
            "_view_count": null,
            "_view_module": "@jupyter-widgets/base",
            "_view_module_version": "1.2.0",
            "_view_name": "LayoutView",
            "align_content": null,
            "align_items": null,
            "align_self": null,
            "border": null,
            "bottom": null,
            "display": null,
            "flex": null,
            "flex_flow": null,
            "grid_area": null,
            "grid_auto_columns": null,
            "grid_auto_flow": null,
            "grid_auto_rows": null,
            "grid_column": null,
            "grid_gap": null,
            "grid_row": null,
            "grid_template_areas": null,
            "grid_template_columns": null,
            "grid_template_rows": null,
            "height": null,
            "justify_content": null,
            "justify_items": null,
            "left": null,
            "margin": null,
            "max_height": null,
            "max_width": null,
            "min_height": null,
            "min_width": null,
            "object_fit": null,
            "object_position": null,
            "order": null,
            "overflow": null,
            "overflow_x": null,
            "overflow_y": null,
            "padding": null,
            "right": null,
            "top": null,
            "visibility": null,
            "width": null
          }
        },
        "cb6e1a299d5843df9cbdcf94843ce739": {
          "model_module": "@jupyter-widgets/controls",
          "model_module_version": "1.5.0",
          "model_name": "FloatProgressModel",
          "state": {
            "_dom_classes": [],
            "_model_module": "@jupyter-widgets/controls",
            "_model_module_version": "1.5.0",
            "_model_name": "FloatProgressModel",
            "_view_count": null,
            "_view_module": "@jupyter-widgets/controls",
            "_view_module_version": "1.5.0",
            "_view_name": "ProgressView",
            "bar_style": "success",
            "description": "",
            "description_tooltip": null,
            "layout": "IPY_MODEL_fd173cc7b1234ab682997ebd3dd964b5",
            "max": 2,
            "min": 0,
            "orientation": "horizontal",
            "style": "IPY_MODEL_b047b0b785084102a774d0d796c74d76",
            "value": 2
          }
        },
        "d1c5dd72745a4cc5a1e534e40c9148eb": {
          "model_module": "@jupyter-widgets/base",
          "model_module_version": "1.2.0",
          "model_name": "LayoutModel",
          "state": {
            "_model_module": "@jupyter-widgets/base",
            "_model_module_version": "1.2.0",
            "_model_name": "LayoutModel",
            "_view_count": null,
            "_view_module": "@jupyter-widgets/base",
            "_view_module_version": "1.2.0",
            "_view_name": "LayoutView",
            "align_content": null,
            "align_items": null,
            "align_self": null,
            "border": null,
            "bottom": null,
            "display": null,
            "flex": null,
            "flex_flow": null,
            "grid_area": null,
            "grid_auto_columns": null,
            "grid_auto_flow": null,
            "grid_auto_rows": null,
            "grid_column": null,
            "grid_gap": null,
            "grid_row": null,
            "grid_template_areas": null,
            "grid_template_columns": null,
            "grid_template_rows": null,
            "height": null,
            "justify_content": null,
            "justify_items": null,
            "left": null,
            "margin": null,
            "max_height": null,
            "max_width": null,
            "min_height": null,
            "min_width": null,
            "object_fit": null,
            "object_position": null,
            "order": null,
            "overflow": null,
            "overflow_x": null,
            "overflow_y": null,
            "padding": null,
            "right": null,
            "top": null,
            "visibility": null,
            "width": null
          }
        },
        "da0021cb57ff49ea83c796f0e3bc7297": {
          "model_module": "@jupyter-widgets/controls",
          "model_module_version": "1.5.0",
          "model_name": "HBoxModel",
          "state": {
            "_dom_classes": [],
            "_model_module": "@jupyter-widgets/controls",
            "_model_module_version": "1.5.0",
            "_model_name": "HBoxModel",
            "_view_count": null,
            "_view_module": "@jupyter-widgets/controls",
            "_view_module_version": "1.5.0",
            "_view_name": "HBoxView",
            "box_style": "",
            "children": [
              "IPY_MODEL_05f3fefab29a49f3bcd95a32e61c12e8",
              "IPY_MODEL_831f1ae7ad2a4e0a953ae5e25ee5e711",
              "IPY_MODEL_515a0303d1734242a53a03be63f03a72"
            ],
            "layout": "IPY_MODEL_75089d3f666644fe8ebf82e263683fab"
          }
        },
        "e230dec250e74ae091daa3da6ca26c07": {
          "model_module": "@jupyter-widgets/controls",
          "model_module_version": "1.5.0",
          "model_name": "HBoxModel",
          "state": {
            "_dom_classes": [],
            "_model_module": "@jupyter-widgets/controls",
            "_model_module_version": "1.5.0",
            "_model_name": "HBoxModel",
            "_view_count": null,
            "_view_module": "@jupyter-widgets/controls",
            "_view_module_version": "1.5.0",
            "_view_name": "HBoxView",
            "box_style": "",
            "children": [
              "IPY_MODEL_96927a3d64ae4549a37b6ad07cf1620d",
              "IPY_MODEL_cb6e1a299d5843df9cbdcf94843ce739",
              "IPY_MODEL_9fa0de5ba3e54a94a950e0b037969965"
            ],
            "layout": "IPY_MODEL_7f42559288c645d2a0f3960ac05e30bc"
          }
        },
        "e5735a34bdc846e88a594b3e64b616b1": {
          "model_module": "@jupyter-widgets/base",
          "model_module_version": "1.2.0",
          "model_name": "LayoutModel",
          "state": {
            "_model_module": "@jupyter-widgets/base",
            "_model_module_version": "1.2.0",
            "_model_name": "LayoutModel",
            "_view_count": null,
            "_view_module": "@jupyter-widgets/base",
            "_view_module_version": "1.2.0",
            "_view_name": "LayoutView",
            "align_content": null,
            "align_items": null,
            "align_self": null,
            "border": null,
            "bottom": null,
            "display": null,
            "flex": null,
            "flex_flow": null,
            "grid_area": null,
            "grid_auto_columns": null,
            "grid_auto_flow": null,
            "grid_auto_rows": null,
            "grid_column": null,
            "grid_gap": null,
            "grid_row": null,
            "grid_template_areas": null,
            "grid_template_columns": null,
            "grid_template_rows": null,
            "height": null,
            "justify_content": null,
            "justify_items": null,
            "left": null,
            "margin": null,
            "max_height": null,
            "max_width": null,
            "min_height": null,
            "min_width": null,
            "object_fit": null,
            "object_position": null,
            "order": null,
            "overflow": null,
            "overflow_x": null,
            "overflow_y": null,
            "padding": null,
            "right": null,
            "top": null,
            "visibility": null,
            "width": null
          }
        },
        "f416a0e2889d4d0897c4ba8f22fa0525": {
          "model_module": "@jupyter-widgets/controls",
          "model_module_version": "1.5.0",
          "model_name": "HTMLModel",
          "state": {
            "_dom_classes": [],
            "_model_module": "@jupyter-widgets/controls",
            "_model_module_version": "1.5.0",
            "_model_name": "HTMLModel",
            "_view_count": null,
            "_view_module": "@jupyter-widgets/controls",
            "_view_module_version": "1.5.0",
            "_view_name": "HTMLView",
            "description": "",
            "description_tooltip": null,
            "layout": "IPY_MODEL_b130ee650d8f4d46954fafe735778d1a",
            "placeholder": "​",
            "style": "IPY_MODEL_624e3194f9964e89bf9684cdeea07211",
            "value": "100%"
          }
        },
        "f861974ab8e5439e850005c5c7a9b005": {
          "model_module": "@jupyter-widgets/base",
          "model_module_version": "1.2.0",
          "model_name": "LayoutModel",
          "state": {
            "_model_module": "@jupyter-widgets/base",
            "_model_module_version": "1.2.0",
            "_model_name": "LayoutModel",
            "_view_count": null,
            "_view_module": "@jupyter-widgets/base",
            "_view_module_version": "1.2.0",
            "_view_name": "LayoutView",
            "align_content": null,
            "align_items": null,
            "align_self": null,
            "border": null,
            "bottom": null,
            "display": null,
            "flex": null,
            "flex_flow": null,
            "grid_area": null,
            "grid_auto_columns": null,
            "grid_auto_flow": null,
            "grid_auto_rows": null,
            "grid_column": null,
            "grid_gap": null,
            "grid_row": null,
            "grid_template_areas": null,
            "grid_template_columns": null,
            "grid_template_rows": null,
            "height": null,
            "justify_content": null,
            "justify_items": null,
            "left": null,
            "margin": null,
            "max_height": null,
            "max_width": null,
            "min_height": null,
            "min_width": null,
            "object_fit": null,
            "object_position": null,
            "order": null,
            "overflow": null,
            "overflow_x": null,
            "overflow_y": null,
            "padding": null,
            "right": null,
            "top": null,
            "visibility": null,
            "width": null
          }
        },
        "fd173cc7b1234ab682997ebd3dd964b5": {
          "model_module": "@jupyter-widgets/base",
          "model_module_version": "1.2.0",
          "model_name": "LayoutModel",
          "state": {
            "_model_module": "@jupyter-widgets/base",
            "_model_module_version": "1.2.0",
            "_model_name": "LayoutModel",
            "_view_count": null,
            "_view_module": "@jupyter-widgets/base",
            "_view_module_version": "1.2.0",
            "_view_name": "LayoutView",
            "align_content": null,
            "align_items": null,
            "align_self": null,
            "border": null,
            "bottom": null,
            "display": null,
            "flex": null,
            "flex_flow": null,
            "grid_area": null,
            "grid_auto_columns": null,
            "grid_auto_flow": null,
            "grid_auto_rows": null,
            "grid_column": null,
            "grid_gap": null,
            "grid_row": null,
            "grid_template_areas": null,
            "grid_template_columns": null,
            "grid_template_rows": null,
            "height": null,
            "justify_content": null,
            "justify_items": null,
            "left": null,
            "margin": null,
            "max_height": null,
            "max_width": null,
            "min_height": null,
            "min_width": null,
            "object_fit": null,
            "object_position": null,
            "order": null,
            "overflow": null,
            "overflow_x": null,
            "overflow_y": null,
            "padding": null,
            "right": null,
            "top": null,
            "visibility": null,
            "width": null
          }
        }
      }
    }
  },
  "nbformat": 4,
  "nbformat_minor": 0
}
